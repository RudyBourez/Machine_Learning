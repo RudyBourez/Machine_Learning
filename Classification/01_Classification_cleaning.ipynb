{
 "cells": [
  {
   "cell_type": "markdown",
   "metadata": {},
   "source": [
    "# Introduction"
   ]
  },
  {
   "cell_type": "markdown",
   "metadata": {},
   "source": [
    "Nous allons étudier un des problèmes majeurs du machine learning: la classification. La classification est un problème supervisé pour la variable à prédire est une classe. \n",
    "- Quand un algorithme doit prédire l'appartenance à une classe parmis deux (blanc/noir), on parle de classification\n",
    "- quand il y a plus de deux classes (brun/blond/roux), on parle de classification multi-classe"
   ]
  },
  {
   "cell_type": "markdown",
   "metadata": {},
   "source": [
    "Nous allons partir d'un problème précis pour étudier la classification. Pour cela nous utilisons une base donnée issue de l'entreprise Telco qui donne plusieurs informations sur des clients et s'ils ont résilié ou non leur abonnement.\n",
    "On parle ainsi de churn (résilier son contrat).  A partir de cette historique, on va tenter de prédire si en fonction des caractérisitiques d'un client, il est problable qu'il résilie son contrat. \n",
    "\n",
    "C'est donc une classification binaire, soit le client va résilier, soit il ne va pas le faire."
   ]
  },
  {
   "cell_type": "markdown",
   "metadata": {},
   "source": [
    "# Importation des librairies"
   ]
  },
  {
   "cell_type": "markdown",
   "metadata": {},
   "source": [
    "Après avoir mis en place son environnement virtuel et importé les requierements, on peut importer les librairies nécessaires"
   ]
  },
  {
   "cell_type": "code",
   "execution_count": 3,
   "metadata": {},
   "outputs": [],
   "source": [
    "import pandas as pd\n",
    "import numpy as np"
   ]
  },
  {
   "cell_type": "markdown",
   "metadata": {},
   "source": [
    "# I Importation des données"
   ]
  },
  {
   "cell_type": "code",
   "execution_count": 4,
   "metadata": {},
   "outputs": [],
   "source": [
    "df = pd.read_csv('data/raw/Telco_churn_dataset.csv') "
   ]
  },
  {
   "cell_type": "markdown",
   "metadata": {},
   "source": [
    "# II Validation de la propreté de la donnée"
   ]
  },
  {
   "cell_type": "markdown",
   "metadata": {},
   "source": [
    "Tout projet de machine learning commence par un nettoyage de données.\n",
    "\n",
    "Ici nous utilisons une base de données pédagogique et donc déja propre. Il faut cependant valider qu'elle est bien propre en re-balayant toutes les étapes du nettoyage.\n",
    "\n",
    "Remplissez les étapes suivantes:"
   ]
  },
  {
   "cell_type": "markdown",
   "metadata": {},
   "source": [
    "## a) Selection des données et renommage"
   ]
  },
  {
   "cell_type": "markdown",
   "metadata": {},
   "source": [
    "La selection consiste à selectionner:\n",
    "- les attributs (colonne) qui de près ou de loin pourront être utile à notre étude: ici toutes les attributs semblent potentiellement utiles\n",
    "- les instances (lignes) qui concerne notre étude, ici on étudie le churn de l'ensemble des clients, on ne doit donc appliquer aucun filtre"
   ]
  },
  {
   "cell_type": "markdown",
   "metadata": {},
   "source": [
    "Le nom des colones et l'index customer_id sont égalements a priori satisfaisant, on décide de les garder."
   ]
  },
  {
   "cell_type": "markdown",
   "metadata": {},
   "source": [
    "## b) Traitement des doublons"
   ]
  },
  {
   "cell_type": "markdown",
   "metadata": {},
   "source": [
    "Recherchez les doublons et s'il en existe supprimez les"
   ]
  },
  {
   "cell_type": "code",
   "execution_count": null,
   "metadata": {},
   "outputs": [],
   "source": []
  },
  {
   "cell_type": "markdown",
   "metadata": {},
   "source": [
    "## c) Traitement des valeurs manquantes"
   ]
  },
  {
   "cell_type": "markdown",
   "metadata": {},
   "source": [
    "Recherchez s'il y a des valeurs manquantes dans le jeu de données et traitez les."
   ]
  },
  {
   "cell_type": "code",
   "execution_count": null,
   "metadata": {},
   "outputs": [],
   "source": []
  },
  {
   "cell_type": "markdown",
   "metadata": {},
   "source": [
    "## d) Traitement des types attributs"
   ]
  },
  {
   "cell_type": "markdown",
   "metadata": {},
   "source": [
    "Déterminer le type de chaque attribut, vérifier s'il correspond au type souhaité dans la documentation. Si ce n'est pas le cas, modifiez ce type.\n",
    "\n",
    "A cette étape on ne vous demande pas encore d'encoder vos attributs (transformer des variables string en bool: par exemple transforme le gender (Male/Female) en gender_female(0/1))"
   ]
  },
  {
   "cell_type": "code",
   "execution_count": null,
   "metadata": {},
   "outputs": [],
   "source": []
  },
  {
   "cell_type": "markdown",
   "metadata": {},
   "source": [
    "## e) Consistance, reformatage et valeurs aberrantes"
   ]
  },
  {
   "cell_type": "markdown",
   "metadata": {},
   "source": [
    "Pour chaque type de données, étudiez leur consistance et reformater les si besoin"
   ]
  },
  {
   "cell_type": "markdown",
   "metadata": {},
   "source": [
    "### e.1) Données de type string"
   ]
  },
  {
   "cell_type": "code",
   "execution_count": null,
   "metadata": {},
   "outputs": [],
   "source": []
  },
  {
   "cell_type": "markdown",
   "metadata": {},
   "source": [
    "### e.2) Données de types numérique "
   ]
  },
  {
   "cell_type": "code",
   "execution_count": null,
   "metadata": {},
   "outputs": [],
   "source": []
  },
  {
   "cell_type": "markdown",
   "metadata": {},
   "source": [
    "### e.3) Données de type bool"
   ]
  },
  {
   "cell_type": "code",
   "execution_count": null,
   "metadata": {},
   "outputs": [],
   "source": []
  },
  {
   "cell_type": "markdown",
   "metadata": {},
   "source": [
    "# On sauvegarde notre base de données nettoyées"
   ]
  },
  {
   "cell_type": "code",
   "execution_count": 87,
   "metadata": {},
   "outputs": [],
   "source": [
    "df.to_csv('data/intermediate/Telco_clean.csv', index=False)"
   ]
  }
 ],
 "metadata": {
  "interpreter": {
   "hash": "3f172fef0f1fa3f7a1f47870b05be890ee6e3fc6cd5f70df4603d8e2c0e93e3d"
  },
  "kernelspec": {
   "display_name": "Python 3.9.9 ('env': venv)",
   "language": "python",
   "name": "python3"
  },
  "language_info": {
   "codemirror_mode": {
    "name": "ipython",
    "version": 3
   },
   "file_extension": ".py",
   "mimetype": "text/x-python",
   "name": "python",
   "nbconvert_exporter": "python",
   "pygments_lexer": "ipython3",
   "version": "3.9.9"
  },
  "orig_nbformat": 4
 },
 "nbformat": 4,
 "nbformat_minor": 2
}
