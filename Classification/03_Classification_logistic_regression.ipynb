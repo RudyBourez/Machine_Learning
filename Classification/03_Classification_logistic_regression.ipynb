{
 "cells": [
  {
   "cell_type": "markdown",
   "metadata": {},
   "source": [
    "# Mise en place de l'environnement"
   ]
  },
  {
   "cell_type": "code",
   "execution_count": 42,
   "metadata": {},
   "outputs": [],
   "source": [
    "# On importe les packages nécesaires au machine learning\n",
    "import pandas as pd\n",
    "from sklearn.model_selection import train_test_split\n",
    "from sklearn.linear_model import LogisticRegression\n",
    "from sklearn.preprocessing import LabelEncoder,StandardScaler\n",
    "from sklearn.compose import make_column_transformer\n",
    "from sklearn.pipeline import make_pipeline\n",
    "from sklearn.metrics import accuracy_score, f1_score, recall_score,precision_score, roc_auc_score, plot_roc_curve"
   ]
  },
  {
   "cell_type": "code",
   "execution_count": 29,
   "metadata": {},
   "outputs": [],
   "source": [
    "# On met en place Mlflow pour suivre les performances de nos modèles\n",
    "import mlflow\n",
    "import mlflow.sklearn\n",
    "from urllib.parse import urlparse\n",
    "\n",
    "# On crée une nouvelle expérimentation qui permet de rassembler tous les entrainements pour un meme projet.\n",
    "# experiment_id = mlflow.create_experiment(\"classification_tutorial\")"
   ]
  },
  {
   "cell_type": "markdown",
   "metadata": {},
   "source": [
    "# Data Preparation"
   ]
  },
  {
   "cell_type": "code",
   "execution_count": 30,
   "metadata": {},
   "outputs": [],
   "source": [
    "# On importe la table nettoyée et augmentée des nouveaux attributs.\n",
    "df = pd.read_csv(\"data/intermediate/Telco_post_analysis.csv\")"
   ]
  },
  {
   "cell_type": "markdown",
   "metadata": {},
   "source": [
    "## Encodage\n",
    "\n",
    "La pluspart des modèles de machine learning n'acceptent pas les vairables catégorielles (string). Il faut donc passer par une première étape de les transformer en variable numérique. Cette opération est appellée encodage. Voici les trois encodages principaux dans la librairie scikit learn:\n",
    "- [sklearn.preprocessing.LabelEncoder](https://scikit-learn.org/stable/modules/generated/sklearn.preprocessing.LabelEncoder.html) : transforme la variable catégorielle cible en variable numérique. (chaque classe sera représentée par un chiffre)\n",
    "- [sklearn.preprocessing.OrdinalEncoder](https://scikit-learn.org/stable/modules/generated/sklearn.preprocessing.OrdinalEncoder.html#sklearn.preprocessing.OrdinalEncoder) Transforme une variable explicative catégorielle en variable numérique, chaque classe correspond à un chiffre. L'ordre des chiffres est supposé avoir un sens. On le privilègie donc pour les variables catégorielles dites \"ordinales\" du types: satifaction (low, medium, high)\n",
    "- [sklearn.preprocessing.OneHotEncoder](https://scikit-learn.org/stable/modules/generated/sklearn.preprocessing.OneHotEncoder.html) Transforme une variable explicative catégorielle en autant de variable binaire (0/1) que la variable catégorielle à de valeur (-1).\n",
    "    - exemple: la variable couleur_cheveux dont les valeurs sont (brun, blond, roux, chauve) sera transformer en trois variables binaires: couleur_cheveux_brun (0/1), couleur_cheveux_blond (0/1), couleur_cheveux_roux (0/1). Si une personne est chauve elle aura 0 aux trois variables précédentes, pas besoin d'ajouter donc cette varaible supplémentaire.\n",
    "\n",
    "OneHotEncoder est pratique à utiliser dans un pipe scikit learn mais il peut être moins pratique à utiliser avec un dataframe pandas. Pour hot encoder un dataframe on peut utiliser [pandas.get_dummies](https://pandas.pydata.org/docs/reference/api/pandas.get_dummies.html)"
   ]
  },
  {
   "cell_type": "markdown",
   "metadata": {},
   "source": [
    "### Encodage du Churn avec Label encoder"
   ]
  },
  {
   "cell_type": "code",
   "execution_count": 31,
   "metadata": {},
   "outputs": [
    {
     "data": {
      "text/plain": [
       "0        No\n",
       "1        No\n",
       "2       Yes\n",
       "3        No\n",
       "4       Yes\n",
       "       ... \n",
       "7027     No\n",
       "7028     No\n",
       "7029     No\n",
       "7030    Yes\n",
       "7031     No\n",
       "Name: Churn, Length: 7032, dtype: object"
      ]
     },
     "execution_count": 31,
     "metadata": {},
     "output_type": "execute_result"
    }
   ],
   "source": [
    "df[\"Churn\"]"
   ]
  },
  {
   "cell_type": "code",
   "execution_count": 32,
   "metadata": {},
   "outputs": [],
   "source": [
    "from sklearn import preprocessing\n",
    "le = preprocessing.LabelEncoder()\n",
    "df[\"Churn\"]= le.fit_transform(df[\"Churn\"])"
   ]
  },
  {
   "cell_type": "code",
   "execution_count": 33,
   "metadata": {},
   "outputs": [
    {
     "name": "stderr",
     "output_type": "stream",
     "text": [
      "C:\\Users\\APPREN~1\\AppData\\Local\\Temp/ipykernel_4496/2024409026.py:2: SettingWithCopyWarning: \n",
      "A value is trying to be set on a copy of a slice from a DataFrame\n",
      "\n",
      "See the caveats in the documentation: https://pandas.pydata.org/pandas-docs/stable/user_guide/indexing.html#returning-a-view-versus-a-copy\n",
      "  df[col][(df[col]==\"No\") | (df[col]==\"Male\") | (df[col]==\"DSL\") | (df[col]==\"Only Internet\")] = 0\n",
      "C:\\Users\\APPREN~1\\AppData\\Local\\Temp/ipykernel_4496/2024409026.py:3: SettingWithCopyWarning: \n",
      "A value is trying to be set on a copy of a slice from a DataFrame\n",
      "\n",
      "See the caveats in the documentation: https://pandas.pydata.org/pandas-docs/stable/user_guide/indexing.html#returning-a-view-versus-a-copy\n",
      "  df[col][(df[col]==\"Yes\") | (df[col]==\"Female\") | (df[col]==\"Fiber optic\") | (df[col]==\"Phone and Internet\")] = 1\n",
      "C:\\Users\\APPREN~1\\AppData\\Local\\Temp/ipykernel_4496/2024409026.py:4: SettingWithCopyWarning: \n",
      "A value is trying to be set on a copy of a slice from a DataFrame\n",
      "\n",
      "See the caveats in the documentation: https://pandas.pydata.org/pandas-docs/stable/user_guide/indexing.html#returning-a-view-versus-a-copy\n",
      "  df[col][(df[col]==\"No phone service\") | (df[col]==\"No internet service\") | (df[col]==\"Only Phone\")] = -1\n",
      "C:\\Users\\APPREN~1\\AppData\\Local\\Temp/ipykernel_4496/2024409026.py:5: SettingWithCopyWarning: \n",
      "A value is trying to be set on a copy of a slice from a DataFrame\n",
      "\n",
      "See the caveats in the documentation: https://pandas.pydata.org/pandas-docs/stable/user_guide/indexing.html#returning-a-view-versus-a-copy\n",
      "  df[col][df[col] == \"Month-to-month\"] = 1\n",
      "C:\\Users\\APPREN~1\\AppData\\Local\\Temp/ipykernel_4496/2024409026.py:6: SettingWithCopyWarning: \n",
      "A value is trying to be set on a copy of a slice from a DataFrame\n",
      "\n",
      "See the caveats in the documentation: https://pandas.pydata.org/pandas-docs/stable/user_guide/indexing.html#returning-a-view-versus-a-copy\n",
      "  df[col][df[col] == \"One year\"] = 12\n",
      "C:\\Users\\APPREN~1\\AppData\\Local\\Temp/ipykernel_4496/2024409026.py:7: SettingWithCopyWarning: \n",
      "A value is trying to be set on a copy of a slice from a DataFrame\n",
      "\n",
      "See the caveats in the documentation: https://pandas.pydata.org/pandas-docs/stable/user_guide/indexing.html#returning-a-view-versus-a-copy\n",
      "  df[col][df[col] == \"Two year\"] = 24\n",
      "C:\\Users\\APPREN~1\\AppData\\Local\\Temp/ipykernel_4496/2024409026.py:8: SettingWithCopyWarning: \n",
      "A value is trying to be set on a copy of a slice from a DataFrame\n",
      "\n",
      "See the caveats in the documentation: https://pandas.pydata.org/pandas-docs/stable/user_guide/indexing.html#returning-a-view-versus-a-copy\n",
      "  df[col][df[col] == \"Mailed check\"] = 0\n",
      "C:\\Users\\APPREN~1\\AppData\\Local\\Temp/ipykernel_4496/2024409026.py:9: SettingWithCopyWarning: \n",
      "A value is trying to be set on a copy of a slice from a DataFrame\n",
      "\n",
      "See the caveats in the documentation: https://pandas.pydata.org/pandas-docs/stable/user_guide/indexing.html#returning-a-view-versus-a-copy\n",
      "  df[col][df[col] == \"Electronic check\"] = 1\n",
      "C:\\Users\\APPREN~1\\AppData\\Local\\Temp/ipykernel_4496/2024409026.py:10: SettingWithCopyWarning: \n",
      "A value is trying to be set on a copy of a slice from a DataFrame\n",
      "\n",
      "See the caveats in the documentation: https://pandas.pydata.org/pandas-docs/stable/user_guide/indexing.html#returning-a-view-versus-a-copy\n",
      "  df[col][df[col] == \"Credit card (automatic)\"] = 2\n",
      "C:\\Users\\APPREN~1\\AppData\\Local\\Temp/ipykernel_4496/2024409026.py:11: SettingWithCopyWarning: \n",
      "A value is trying to be set on a copy of a slice from a DataFrame\n",
      "\n",
      "See the caveats in the documentation: https://pandas.pydata.org/pandas-docs/stable/user_guide/indexing.html#returning-a-view-versus-a-copy\n",
      "  df[col][df[col] == \"Bank transfer (automatic)\"] = 3\n"
     ]
    }
   ],
   "source": [
    "for col in df.drop(\"customerID\",axis=1).columns:\n",
    "    df[col][(df[col]==\"No\") | (df[col]==\"Male\") | (df[col]==\"DSL\") | (df[col]==\"Only Internet\")] = 0\n",
    "    df[col][(df[col]==\"Yes\") | (df[col]==\"Female\") | (df[col]==\"Fiber optic\") | (df[col]==\"Phone and Internet\")] = 1\n",
    "    df[col][(df[col]==\"No phone service\") | (df[col]==\"No internet service\") | (df[col]==\"Only Phone\")] = -1\n",
    "    df[col][df[col] == \"Month-to-month\"] = 1\n",
    "    df[col][df[col] == \"One year\"] = 12\n",
    "    df[col][df[col] == \"Two year\"] = 24\n",
    "    df[col][df[col] == \"Mailed check\"] = 0\n",
    "    df[col][df[col] == \"Electronic check\"] = 1\n",
    "    df[col][df[col] == \"Credit card (automatic)\"] = 2\n",
    "    df[col][df[col] == \"Bank transfer (automatic)\"] = 3\n",
    "    df[col] = df[col].astype(float)"
   ]
  },
  {
   "cell_type": "markdown",
   "metadata": {},
   "source": [
    "### Encodage des variables explicatives avec get_dummies"
   ]
  },
  {
   "cell_type": "markdown",
   "metadata": {},
   "source": [
    "L'encodage est aussi le moment pour selectionner les variables qui nous interesse le plus.\n",
    "On a par exemple:\n",
    "- Internet : Oui, non\n",
    "- option internet: oui, non, pas internet\n",
    "\n",
    "les indicatrices (dummies) Internet_non et option_internet_pas_internet sont exactement les memes, on peut donc en concerver qu'une sur deux"
   ]
  },
  {
   "cell_type": "markdown",
   "metadata": {},
   "source": [
    "### example d'encodage ordinal avec apply map"
   ]
  },
  {
   "cell_type": "markdown",
   "metadata": {},
   "source": [
    "## Separation de la DB"
   ]
  },
  {
   "cell_type": "markdown",
   "metadata": {},
   "source": [
    " # Choix de la metrique d'évalulation, du modèle et la gestion du déséquilibre du jeu de données"
   ]
  },
  {
   "cell_type": "markdown",
   "metadata": {},
   "source": [
    "A propos des jeux de données non équilibrées: [this link](https://elitedatascience.com/imbalanced-classes)"
   ]
  },
  {
   "cell_type": "markdown",
   "metadata": {},
   "source": [
    "# Premiere regression avec MLflow et Scikitlearn"
   ]
  },
  {
   "cell_type": "code",
   "execution_count": 34,
   "metadata": {},
   "outputs": [],
   "source": [
    "X = df.drop([\"customerID\", \"Churn\"], axis=1)\n",
    "y = df.Churn"
   ]
  },
  {
   "cell_type": "code",
   "execution_count": 35,
   "metadata": {},
   "outputs": [],
   "source": [
    "features_standard = df.drop([\"customerID\",\"Churn\"], axis=1).columns\n",
    "standard_pipeline = make_pipeline(StandardScaler())\n",
    "\n",
    "preprocessor = make_column_transformer((standard_pipeline,features_standard))"
   ]
  },
  {
   "cell_type": "code",
   "execution_count": 36,
   "metadata": {},
   "outputs": [],
   "source": [
    "lr = make_pipeline(preprocessor, LogisticRegression(random_state=1, C=0.005, max_iter=150))"
   ]
  },
  {
   "cell_type": "code",
   "execution_count": 37,
   "metadata": {},
   "outputs": [],
   "source": [
    "def eval_metrics(actual, pred):\n",
    "    accuracy = accuracy_score(actual, pred)\n",
    "    f1 = f1_score(actual, pred)\n",
    "    recall = recall_score(actual, pred)\n",
    "    precision = precision_score(actual, pred)\n",
    "    auc = roc_auc_score(actual, pred)\n",
    "    return accuracy, f1, recall, precision, auc\n"
   ]
  },
  {
   "cell_type": "code",
   "execution_count": 38,
   "metadata": {},
   "outputs": [],
   "source": [
    "X_train, X_test, y_train, y_test = train_test_split(X, y, random_state=1, test_size=0.2)"
   ]
  },
  {
   "cell_type": "code",
   "execution_count": null,
   "metadata": {},
   "outputs": [],
   "source": [
    "param_lr = {\"logisticregression__C\":[0.0005, 0.005, 0.05, 0.1, 1, 3],\n",
    "            \"logisticregression__max_iter\":[100,150,200,500]}\n",
    "grid_lr = GridSearchCV(k_nn, param_knn, scoring='roc_auc',cv=5)\n",
    "grid_lr.fit(X_train, y_train)\n",
    "grid_lr.best_params_"
   ]
  },
  {
   "cell_type": "code",
   "execution_count": null,
   "metadata": {},
   "outputs": [],
   "source": [
    "lr_model = grid_lr.best_estimator_"
   ]
  },
  {
   "cell_type": "code",
   "execution_count": 43,
   "metadata": {},
   "outputs": [
    {
     "name": "stderr",
     "output_type": "stream",
     "text": [
      "2022/03/09 11:46:54 WARNING mlflow.utils: Truncated the value of the key `steps`. Truncated value: `[('columntransformer', ColumnTransformer(transformers=[('pipeline',\n",
      "                                 Pipeline(steps=[('standardscaler',\n",
      "                                                  StandardScaler())]),\n",
      "                                 Index([...`\n",
      "2022/03/09 11:46:54 WARNING mlflow.utils: Truncated the value of the key `columntransformer`. Truncated value: `ColumnTransformer(transformers=[('pipeline',\n",
      "                                 Pipeline(steps=[('standardscaler',\n",
      "                                                  StandardScaler())]),\n",
      "                                 Index(['gender', 'SeniorCitize...`\n",
      "2022/03/09 11:46:54 WARNING mlflow.utils: Truncated the value of the key `columntransformer__transformers`. Truncated value: `[('pipeline', Pipeline(steps=[('standardscaler', StandardScaler())]), Index(['gender', 'SeniorCitizen', 'Partner', 'Dependents', 'tenure',\n",
      "       'PhoneService', 'MultipleLines', 'InternetService', 'OnlineSecurity',\n",
      "       'OnlineBackup', 'DeviceP...`\n",
      "2022/03/09 11:46:54 WARNING mlflow.utils.autologging_utils: MLflow autologging encountered a warning: \"C:\\Users\\Apprenant\\anaconda3\\envs\\rb_ds\\lib\\site-packages\\sklearn\\utils\\deprecation.py:87: FutureWarning: Function plot_confusion_matrix is deprecated; Function `plot_confusion_matrix` is deprecated in 1.0 and will be removed in 1.2. Use one of the class methods: ConfusionMatrixDisplay.from_predictions or ConfusionMatrixDisplay.from_estimator.\"\n",
      "2022/03/09 11:46:54 WARNING mlflow.utils.autologging_utils: MLflow autologging encountered a warning: \"C:\\Users\\Apprenant\\anaconda3\\envs\\rb_ds\\lib\\site-packages\\sklearn\\utils\\deprecation.py:87: FutureWarning: Function plot_roc_curve is deprecated; Function :func:`plot_roc_curve` is deprecated in 1.0 and will be removed in 1.2. Use one of the class methods: :meth:`sklearn.metric.RocCurveDisplay.from_predictions` or :meth:`sklearn.metric.RocCurveDisplay.from_estimator`.\"\n",
      "2022/03/09 11:46:55 WARNING mlflow.utils.autologging_utils: MLflow autologging encountered a warning: \"C:\\Users\\Apprenant\\anaconda3\\envs\\rb_ds\\lib\\site-packages\\sklearn\\utils\\deprecation.py:87: FutureWarning: Function plot_precision_recall_curve is deprecated; Function `plot_precision_recall_curve` is deprecated in 1.0 and will be removed in 1.2. Use one of the class methods: PrecisionRecallDisplay.from_predictions or PrecisionRecallDisplay.from_estimator.\"\n"
     ]
    },
    {
     "name": "stdout",
     "output_type": "stream",
     "text": [
      "  accuracy: 0.7931769722814499\n",
      "  f1: 0.5488372093023255\n",
      "  recall: 0.48360655737704916\n",
      "  precision: 0.6344086021505376\n",
      "  auc: 0.6928119242216658\n"
     ]
    },
    {
     "name": "stderr",
     "output_type": "stream",
     "text": [
      "C:\\Users\\Apprenant\\anaconda3\\envs\\rb_ds\\lib\\site-packages\\sklearn\\utils\\deprecation.py:87: FutureWarning: Function plot_roc_curve is deprecated; Function :func:`plot_roc_curve` is deprecated in 1.0 and will be removed in 1.2. Use one of the class methods: :meth:`sklearn.metric.RocCurveDisplay.from_predictions` or :meth:`sklearn.metric.RocCurveDisplay.from_estimator`.\n",
      "  warnings.warn(msg, category=FutureWarning)\n"
     ]
    },
    {
     "data": {
      "text/plain": [
       "<sklearn.metrics._plot.roc_curve.RocCurveDisplay at 0x194cd01af70>"
      ]
     },
     "execution_count": 43,
     "metadata": {},
     "output_type": "execute_result"
    },
    {
     "data": {
      "image/png": "[encoded data removed]",
      "text/plain": [
       "<Figure size 640x480 with 1 Axes>"
      ]
     },
     "metadata": {},
     "output_type": "display_data"
    }
   ],
   "source": [
    "# On utilise la fonction autolog qui permet de tracker tous les paramètres des modèles\n",
    "mlflow.sklearn.autolog()\n",
    "\n",
    "with mlflow.start_run(experiment_id = 1):\n",
    "    model = lr.fit(X_train,y_train)\n",
    "    y_pred = model.predict(X_test)\n",
    "\n",
    "    accuracy, f1, recall, precision, auc = eval_metrics(y_test, y_pred)\n",
    "    print(\"  accuracy: %s\" % accuracy)\n",
    "    print(\"  f1: %s\" % f1)\n",
    "    print(\"  recall: %s\" % recall) \n",
    "    print(\"  precision: %s\" % precision) \n",
    "    print(\"  auc: %s\" % auc) \n",
    "\n",
    "    mlflow.log_param(\"Variables\", X_test.columns) # Enregistre un paramètre du modéle\n",
    "    # mlflow.log_param(\"class_weight\",{0:1,1:1.5}) # Enregistre un paramètre du modéle\n",
    "    # mlflow.log_param(\"max_iter\",250) # Enregistre un paramètre du modéle\n",
    "    # mlflow.log_metric(\"precision\", precision) # Enregistre une métrique\n",
    "    # mlflow.log_metric(\"f1\", f1)\n",
    "    # mlflow.log_metric(\"recall\", recall)\n",
    "    # mlflow.log_metric(\"precision\", precision)\n",
    "    # mlflow.log_metric(\"auc\", auc)                 \n",
    "\n",
    "    tracking_url_type_store = urlparse(mlflow.get_tracking_uri()).scheme\n",
    "\n",
    "    if tracking_url_type_store != \"file\":\n",
    "        mlflow.sklearn.log_model(lr, \"model\", registered_model_name=\"simple_logisticreggression\")\n",
    "    else:\n",
    "        mlflow.sklearn.log_model(lr, \"model\") \n",
    "        \n",
    "plot_roc_curve(model, X_test, y_test)"
   ]
  },
  {
   "cell_type": "markdown",
   "metadata": {},
   "source": [
    "# Première regression avec Stat models"
   ]
  },
  {
   "cell_type": "code",
   "execution_count": null,
   "metadata": {},
   "outputs": [],
   "source": [
    "import statsmodels.api as sm\n",
    "import mlflow.statsmodels"
   ]
  },
  {
   "cell_type": "code",
   "execution_count": null,
   "metadata": {},
   "outputs": [
    {
     "name": "stderr",
     "output_type": "stream",
     "text": [
      "2022/02/23 14:23:41 WARNING mlflow.utils.environment: Encountered an unexpected error while inferring pip requirements (model URI: C:\\Users\\APPREN~1\\AppData\\Local\\Temp\\tmpf_9uzz9z\\model, flavor: statsmodels), fall back to return ['statsmodels==0.13.0']. Set logging level to DEBUG to see the full traceback.\n"
     ]
    },
    {
     "name": "stdout",
     "output_type": "stream",
     "text": [
      "Optimization terminated successfully.\n",
      "         Current function value: 0.448315\n",
      "         Iterations: 6\n",
      "         Function evaluations: 497\n",
      "  accuracy: 0.7917555081734187\n",
      "  f1: 0.5684830633284241\n",
      "  recall: 0.5273224043715847\n",
      "  precision: 0.6166134185303515\n",
      "  auc: 0.7060243145777232\n"
     ]
    }
   ],
   "source": [
    "mlflow.statsmodels.autolog()\n",
    "\n",
    "with mlflow.start_run(experiment_id = 1):\n",
    "    # Logistic regression model\n",
    "    log_reg = sm.Logit(y_train, X_train).fit(maxiter=100,method='powell')\n",
    "    yhat = log_reg.predict(X_test)\n",
    "    y_pred = list(map(round, yhat))\n",
    "\n",
    "\n",
    "    accuracy, f1, recall, precision, auc = eval_metrics(y_test, y_pred)\n",
    "    print(\"  accuracy: %s\" % accuracy)\n",
    "    print(\"  f1: %s\" % f1)\n",
    "    print(\"  recall: %s\" % recall) \n",
    "    print(\"  precision: %s\" % precision) \n",
    "    print(\"  auc: %s\" % auc) \n",
    "\n",
    "    mlflow.log_param(\"Variables\", X_test.columns)\n",
    "    mlflow.log_metric(\"accuracy\", accuracy)\n",
    "    mlflow.log_metric(\"f1\", f1)\n",
    "    mlflow.log_metric(\"recall\", recall)\n",
    "    mlflow.log_metric(\"precision\", precision)\n",
    "    mlflow.log_metric(\"auc\", auc) \n",
    "    "
   ]
  },
  {
   "cell_type": "markdown",
   "metadata": {},
   "source": [
    "# Consignes"
   ]
  },
  {
   "cell_type": "markdown",
   "metadata": {},
   "source": [
    "Essayer plusieurs regressions logistiques en faisant varier les variables en input (pensez à tester une discrétisation des varibles continues) et les paramètres afin d'optimiser la métrique prise pour cible."
   ]
  }
 ],
 "metadata": {
  "interpreter": {
   "hash": "3f172fef0f1fa3f7a1f47870b05be890ee6e3fc6cd5f70df4603d8e2c0e93e3d"
  },
  "kernelspec": {
   "display_name": "Python 3.9.9 ('env': venv)",
   "language": "python",
   "name": "python3"
  },
  "language_info": {
   "codemirror_mode": {
    "name": "ipython",
    "version": 3
   },
   "file_extension": ".py",
   "mimetype": "text/x-python",
   "name": "python",
   "nbconvert_exporter": "python",
   "pygments_lexer": "ipython3",
   "version": "3.9.7"
  },
  "orig_nbformat": 4
 },
 "nbformat": 4,
 "nbformat_minor": 2
}
