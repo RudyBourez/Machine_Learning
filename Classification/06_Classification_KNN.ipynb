{
 "cells": [
  {
   "cell_type": "markdown",
   "metadata": {},
   "source": [
    "# Consignes\n",
    "\n",
    "- Construisez un modèle KNN au sein d'un pipe line en incluant la normalisation, les polynomials features et le grid search.\n",
    "- Utilisez la bibliothèque Pycaret pour lancer une série de modèles et les analyser. Comparer les résultats obtenus avec vos autres résultats. "
   ]
  },
  {
   "cell_type": "code",
   "execution_count": 48,
   "metadata": {},
   "outputs": [],
   "source": [
    "import pandas as pd\n",
    "from sklearn.model_selection import train_test_split\n",
    "from sklearn.preprocessing import StandardScaler, LabelEncoder\n",
    "from sklearn.pipeline import make_pipeline\n",
    "from sklearn.compose import make_column_transformer\n",
    "from sklearn.metrics import accuracy_score, f1_score, recall_score,precision_score, roc_auc_score,plot_roc_curve, confusion_matrix\n",
    "from sklearn.neighbors import KNeighborsClassifier\n",
    "from sklearn.model_selection import GridSearchCV\n",
    "import numpy as np\n",
    "import shap"
   ]
  },
  {
   "cell_type": "code",
   "execution_count": 49,
   "metadata": {},
   "outputs": [],
   "source": [
    "import mlflow\n",
    "import mlflow.sklearn\n",
    "from urllib.parse import urlparse"
   ]
  },
  {
   "cell_type": "code",
   "execution_count": 50,
   "metadata": {},
   "outputs": [],
   "source": [
    "df = pd.read_csv(\"data/intermediate/Telco_post_analysis.csv\")"
   ]
  },
  {
   "cell_type": "code",
   "execution_count": 51,
   "metadata": {},
   "outputs": [
    {
     "name": "stderr",
     "output_type": "stream",
     "text": [
      "\n",
      "A value is trying to be set on a copy of a slice from a DataFrame\n",
      "\n",
      "See the caveats in the documentation: https://pandas.pydata.org/pandas-docs/stable/user_guide/indexing.html#returning-a-view-versus-a-copy\n",
      "\n",
      "A value is trying to be set on a copy of a slice from a DataFrame\n",
      "\n",
      "See the caveats in the documentation: https://pandas.pydata.org/pandas-docs/stable/user_guide/indexing.html#returning-a-view-versus-a-copy\n",
      "\n",
      "A value is trying to be set on a copy of a slice from a DataFrame\n",
      "\n",
      "See the caveats in the documentation: https://pandas.pydata.org/pandas-docs/stable/user_guide/indexing.html#returning-a-view-versus-a-copy\n",
      "\n",
      "A value is trying to be set on a copy of a slice from a DataFrame\n",
      "\n",
      "See the caveats in the documentation: https://pandas.pydata.org/pandas-docs/stable/user_guide/indexing.html#returning-a-view-versus-a-copy\n",
      "\n",
      "A value is trying to be set on a copy of a slice from a DataFrame\n",
      "\n",
      "See the caveats in the documentation: https://pandas.pydata.org/pandas-docs/stable/user_guide/indexing.html#returning-a-view-versus-a-copy\n",
      "\n",
      "A value is trying to be set on a copy of a slice from a DataFrame\n",
      "\n",
      "See the caveats in the documentation: https://pandas.pydata.org/pandas-docs/stable/user_guide/indexing.html#returning-a-view-versus-a-copy\n",
      "\n",
      "A value is trying to be set on a copy of a slice from a DataFrame\n",
      "\n",
      "See the caveats in the documentation: https://pandas.pydata.org/pandas-docs/stable/user_guide/indexing.html#returning-a-view-versus-a-copy\n",
      "\n",
      "A value is trying to be set on a copy of a slice from a DataFrame\n",
      "\n",
      "See the caveats in the documentation: https://pandas.pydata.org/pandas-docs/stable/user_guide/indexing.html#returning-a-view-versus-a-copy\n",
      "\n",
      "A value is trying to be set on a copy of a slice from a DataFrame\n",
      "\n",
      "See the caveats in the documentation: https://pandas.pydata.org/pandas-docs/stable/user_guide/indexing.html#returning-a-view-versus-a-copy\n",
      "\n",
      "A value is trying to be set on a copy of a slice from a DataFrame\n",
      "\n",
      "See the caveats in the documentation: https://pandas.pydata.org/pandas-docs/stable/user_guide/indexing.html#returning-a-view-versus-a-copy\n"
     ]
    }
   ],
   "source": [
    "df[\"Churn\"] = LabelEncoder().fit_transform(df[\"Churn\"])\n",
    "for col in df.drop(\"customerID\",axis=1).columns:\n",
    "    df[col][(df[col]==\"No\") | (df[col]==\"Male\") | (df[col]==\"DSL\") | (df[col]==\"Only Internet\")] = 0\n",
    "    df[col][(df[col]==\"Yes\") | (df[col]==\"Female\") | (df[col]==\"Fiber optic\") | (df[col]==\"Phone and Internet\")] = 1\n",
    "    df[col][(df[col]==\"No phone service\") | (df[col]==\"No internet service\") | (df[col]==\"Only Phone\")] = -1\n",
    "    df[col][df[col] == \"Month-to-month\"] = 1\n",
    "    df[col][df[col] == \"One year\"] = 12\n",
    "    df[col][df[col] == \"Two year\"] = 24\n",
    "    df[col][df[col] == \"Mailed check\"] = 0\n",
    "    df[col][df[col] == \"Electronic check\"] = 1\n",
    "    df[col][df[col] == \"Credit card (automatic)\"] = 2\n",
    "    df[col][df[col] == \"Bank transfer (automatic)\"] = 3\n",
    "    df[col] = df[col].astype(float)"
   ]
  },
  {
   "cell_type": "code",
   "execution_count": 52,
   "metadata": {},
   "outputs": [],
   "source": [
    "X = df.drop([\"customerID\", \"Churn\"], axis=1)\n",
    "y = df.Churn"
   ]
  },
  {
   "cell_type": "code",
   "execution_count": 53,
   "metadata": {},
   "outputs": [],
   "source": [
    "features_standard = df.drop([\"customerID\",\"Churn\"], axis=1).columns\n",
    "standard_pipeline = make_pipeline(StandardScaler())\n",
    "\n",
    "preprocessor = make_column_transformer((standard_pipeline,features_standard))"
   ]
  },
  {
   "cell_type": "code",
   "execution_count": 54,
   "metadata": {},
   "outputs": [
    {
     "data": {
      "text/plain": [
       "dict_keys(['memory', 'steps', 'verbose', 'columntransformer', 'kneighborsclassifier', 'columntransformer__n_jobs', 'columntransformer__remainder', 'columntransformer__sparse_threshold', 'columntransformer__transformer_weights', 'columntransformer__transformers', 'columntransformer__verbose', 'columntransformer__verbose_feature_names_out', 'columntransformer__pipeline', 'columntransformer__pipeline__memory', 'columntransformer__pipeline__steps', 'columntransformer__pipeline__verbose', 'columntransformer__pipeline__standardscaler', 'columntransformer__pipeline__standardscaler__copy', 'columntransformer__pipeline__standardscaler__with_mean', 'columntransformer__pipeline__standardscaler__with_std', 'kneighborsclassifier__algorithm', 'kneighborsclassifier__leaf_size', 'kneighborsclassifier__metric', 'kneighborsclassifier__metric_params', 'kneighborsclassifier__n_jobs', 'kneighborsclassifier__n_neighbors', 'kneighborsclassifier__p', 'kneighborsclassifier__weights'])"
      ]
     },
     "execution_count": 54,
     "metadata": {},
     "output_type": "execute_result"
    }
   ],
   "source": [
    "k_nn = make_pipeline(preprocessor, KNeighborsClassifier())\n",
    "k_nn.get_params().keys()"
   ]
  },
  {
   "cell_type": "code",
   "execution_count": 55,
   "metadata": {},
   "outputs": [],
   "source": [
    "X_train, X_test, y_train, y_test = train_test_split(X, y, random_state=1, test_size=0.2)"
   ]
  },
  {
   "cell_type": "code",
   "execution_count": 56,
   "metadata": {},
   "outputs": [],
   "source": [
    "mlflow.sklearn.autolog()"
   ]
  },
  {
   "cell_type": "code",
   "execution_count": 57,
   "metadata": {},
   "outputs": [
    {
     "name": "stderr",
     "output_type": "stream",
     "text": [
      "2022/03/07 14:19:08 INFO mlflow.utils.autologging_utils: Created MLflow autologging run with ID 'aed52c7463f043028b326573517b1f17', which will track hyperparameters, performance metrics, model artifacts, and lineage information for the current sklearn workflow\n",
      "2022/03/07 14:19:08 WARNING mlflow.utils: Truncated the value of the key `estimator`. Truncated value: `Pipeline(steps=[('columntransformer',\n",
      "                 ColumnTransformer(transformers=[('pipeline',\n",
      "                                                  Pipeline(steps=[('standardscaler',\n",
      "                                                              ...`\n",
      "2022/03/07 14:19:08 WARNING mlflow.utils: Truncated the value of the key `param_grid`. Truncated value: `{'kneighborsclassifier__n_neighbors': [5, 8, 12, 15], 'kneighborsclassifier__algorithm': ['auto', 'ball_tree', 'kd_tree', 'brute'], 'kneighborsclassifier__metric': ['minkowski', 'manhattan', 'euclidean'], 'kneighborsclassifier__leaf_size': [20, 30...`\n",
      "2022/03/07 14:21:59 WARNING mlflow.utils.autologging_utils: MLflow autologging encountered a warning: \"C:\\Users\\Apprenant\\anaconda3\\envs\\rb_ds\\lib\\site-packages\\sklearn\\utils\\deprecation.py:87: FutureWarning: Function plot_confusion_matrix is deprecated; Function `plot_confusion_matrix` is deprecated in 1.0 and will be removed in 1.2. Use one of the class methods: ConfusionMatrixDisplay.from_predictions or ConfusionMatrixDisplay.from_estimator.\"\n",
      "2022/03/07 14:22:00 WARNING mlflow.utils.autologging_utils: MLflow autologging encountered a warning: \"C:\\Users\\Apprenant\\anaconda3\\envs\\rb_ds\\lib\\site-packages\\sklearn\\utils\\deprecation.py:87: FutureWarning: Function plot_roc_curve is deprecated; Function :func:`plot_roc_curve` is deprecated in 1.0 and will be removed in 1.2. Use one of the class methods: :meth:`sklearn.metric.RocCurveDisplay.from_predictions` or :meth:`sklearn.metric.RocCurveDisplay.from_estimator`.\"\n",
      "2022/03/07 14:22:01 WARNING mlflow.utils.autologging_utils: MLflow autologging encountered a warning: \"C:\\Users\\Apprenant\\anaconda3\\envs\\rb_ds\\lib\\site-packages\\sklearn\\utils\\deprecation.py:87: FutureWarning: Function plot_precision_recall_curve is deprecated; Function `plot_precision_recall_curve` is deprecated in 1.0 and will be removed in 1.2. Use one of the class methods: PrecisionRecallDisplay.from_predictions or PrecisionRecallDisplay.from_estimator.\"\n",
      "2022/03/07 14:22:10 INFO mlflow.sklearn.utils: Logging the 5 best runs, 187 runs will be omitted.\n",
      "2022/03/07 14:22:10 WARNING mlflow.utils: Truncated the value of the key `steps`. Truncated value: `[('columntransformer', ColumnTransformer(transformers=[('pipeline',\n",
      "                                 Pipeline(steps=[('standardscaler',\n",
      "                                                  StandardScaler())]),\n",
      "                                 Index([...`\n",
      "2022/03/07 14:22:10 WARNING mlflow.utils: Truncated the value of the key `columntransformer`. Truncated value: `ColumnTransformer(transformers=[('pipeline',\n",
      "                                 Pipeline(steps=[('standardscaler',\n",
      "                                                  StandardScaler())]),\n",
      "                                 Index(['gender', 'SeniorCitize...`\n",
      "2022/03/07 14:22:10 WARNING mlflow.utils: Truncated the value of the key `columntransformer__transformers`. Truncated value: `[('pipeline', Pipeline(steps=[('standardscaler', StandardScaler())]), Index(['gender', 'SeniorCitizen', 'Partner', 'Dependents', 'tenure',\n",
      "       'PhoneService', 'MultipleLines', 'InternetService', 'OnlineSecurity',\n",
      "       'OnlineBackup', 'DeviceP...`\n",
      "2022/03/07 14:22:10 WARNING mlflow.utils: Truncated the value of the key `steps`. Truncated value: `[('columntransformer', ColumnTransformer(transformers=[('pipeline',\n",
      "                                 Pipeline(steps=[('standardscaler',\n",
      "                                                  StandardScaler())]),\n",
      "                                 Index([...`\n",
      "2022/03/07 14:22:10 WARNING mlflow.utils: Truncated the value of the key `columntransformer`. Truncated value: `ColumnTransformer(transformers=[('pipeline',\n",
      "                                 Pipeline(steps=[('standardscaler',\n",
      "                                                  StandardScaler())]),\n",
      "                                 Index(['gender', 'SeniorCitize...`\n",
      "2022/03/07 14:22:10 WARNING mlflow.utils: Truncated the value of the key `columntransformer__transformers`. Truncated value: `[('pipeline', Pipeline(steps=[('standardscaler', StandardScaler())]), Index(['gender', 'SeniorCitizen', 'Partner', 'Dependents', 'tenure',\n",
      "       'PhoneService', 'MultipleLines', 'InternetService', 'OnlineSecurity',\n",
      "       'OnlineBackup', 'DeviceP...`\n",
      "2022/03/07 14:22:10 WARNING mlflow.utils: Truncated the value of the key `steps`. Truncated value: `[('columntransformer', ColumnTransformer(transformers=[('pipeline',\n",
      "                                 Pipeline(steps=[('standardscaler',\n",
      "                                                  StandardScaler())]),\n",
      "                                 Index([...`\n",
      "2022/03/07 14:22:10 WARNING mlflow.utils: Truncated the value of the key `columntransformer`. Truncated value: `ColumnTransformer(transformers=[('pipeline',\n",
      "                                 Pipeline(steps=[('standardscaler',\n",
      "                                                  StandardScaler())]),\n",
      "                                 Index(['gender', 'SeniorCitize...`\n",
      "2022/03/07 14:22:10 WARNING mlflow.utils: Truncated the value of the key `columntransformer__transformers`. Truncated value: `[('pipeline', Pipeline(steps=[('standardscaler', StandardScaler())]), Index(['gender', 'SeniorCitizen', 'Partner', 'Dependents', 'tenure',\n",
      "       'PhoneService', 'MultipleLines', 'InternetService', 'OnlineSecurity',\n",
      "       'OnlineBackup', 'DeviceP...`\n",
      "2022/03/07 14:22:10 WARNING mlflow.utils: Truncated the value of the key `steps`. Truncated value: `[('columntransformer', ColumnTransformer(transformers=[('pipeline',\n",
      "                                 Pipeline(steps=[('standardscaler',\n",
      "                                                  StandardScaler())]),\n",
      "                                 Index([...`\n",
      "2022/03/07 14:22:10 WARNING mlflow.utils: Truncated the value of the key `columntransformer`. Truncated value: `ColumnTransformer(transformers=[('pipeline',\n",
      "                                 Pipeline(steps=[('standardscaler',\n",
      "                                                  StandardScaler())]),\n",
      "                                 Index(['gender', 'SeniorCitize...`\n",
      "2022/03/07 14:22:10 WARNING mlflow.utils: Truncated the value of the key `columntransformer__transformers`. Truncated value: `[('pipeline', Pipeline(steps=[('standardscaler', StandardScaler())]), Index(['gender', 'SeniorCitizen', 'Partner', 'Dependents', 'tenure',\n",
      "       'PhoneService', 'MultipleLines', 'InternetService', 'OnlineSecurity',\n",
      "       'OnlineBackup', 'DeviceP...`\n",
      "2022/03/07 14:22:10 WARNING mlflow.utils: Truncated the value of the key `steps`. Truncated value: `[('columntransformer', ColumnTransformer(transformers=[('pipeline',\n",
      "                                 Pipeline(steps=[('standardscaler',\n",
      "                                                  StandardScaler())]),\n",
      "                                 Index([...`\n",
      "2022/03/07 14:22:10 WARNING mlflow.utils: Truncated the value of the key `columntransformer`. Truncated value: `ColumnTransformer(transformers=[('pipeline',\n",
      "                                 Pipeline(steps=[('standardscaler',\n",
      "                                                  StandardScaler())]),\n",
      "                                 Index(['gender', 'SeniorCitize...`\n",
      "2022/03/07 14:22:10 WARNING mlflow.utils: Truncated the value of the key `columntransformer__transformers`. Truncated value: `[('pipeline', Pipeline(steps=[('standardscaler', StandardScaler())]), Index(['gender', 'SeniorCitizen', 'Partner', 'Dependents', 'tenure',\n",
      "       'PhoneService', 'MultipleLines', 'InternetService', 'OnlineSecurity',\n",
      "       'OnlineBackup', 'DeviceP...`\n"
     ]
    },
    {
     "data": {
      "text/plain": [
       "{'kneighborsclassifier__algorithm': 'kd_tree',\n",
       " 'kneighborsclassifier__leaf_size': 40,\n",
       " 'kneighborsclassifier__metric': 'manhattan',\n",
       " 'kneighborsclassifier__n_neighbors': 15}"
      ]
     },
     "execution_count": 57,
     "metadata": {},
     "output_type": "execute_result"
    }
   ],
   "source": [
    "param_knn = {\"kneighborsclassifier__n_neighbors\":[5, 8, 12, 15],\"kneighborsclassifier__algorithm\":[\"auto\",\"ball_tree\", \"kd_tree\", \"brute\"],\n",
    "                       \"kneighborsclassifier__metric\":[\"minkowski\", \"manhattan\", \"euclidean\"],\"kneighborsclassifier__leaf_size\":[20, 30, 40, 50]}\n",
    "grid_decision = GridSearchCV(k_nn, param_knn, scoring='roc_auc',cv=5)\n",
    "grid_decision.fit(X_train, y_train)\n",
    "grid_decision.best_params_"
   ]
  },
  {
   "cell_type": "code",
   "execution_count": 58,
   "metadata": {},
   "outputs": [
    {
     "name": "stderr",
     "output_type": "stream",
     "text": [
      "2022/03/07 14:22:11 INFO mlflow.utils.autologging_utils: Created MLflow autologging run with ID '579baba429c4427eb875c11841817dcd', which will track hyperparameters, performance metrics, model artifacts, and lineage information for the current sklearn workflow\n",
      "2022/03/07 14:22:11 WARNING mlflow.utils: Truncated the value of the key `estimator`. Truncated value: `Pipeline(steps=[('columntransformer',\n",
      "                 ColumnTransformer(transformers=[('pipeline',\n",
      "                                                  Pipeline(steps=[('standardscaler',\n",
      "                                                              ...`\n",
      "2022/03/07 14:22:25 WARNING mlflow.utils.autologging_utils: MLflow autologging encountered a warning: \"C:\\Users\\Apprenant\\anaconda3\\envs\\rb_ds\\lib\\site-packages\\sklearn\\utils\\deprecation.py:87: FutureWarning: Function plot_confusion_matrix is deprecated; Function `plot_confusion_matrix` is deprecated in 1.0 and will be removed in 1.2. Use one of the class methods: ConfusionMatrixDisplay.from_predictions or ConfusionMatrixDisplay.from_estimator.\"\n",
      "2022/03/07 14:22:27 WARNING mlflow.utils.autologging_utils: MLflow autologging encountered a warning: \"C:\\Users\\Apprenant\\anaconda3\\envs\\rb_ds\\lib\\site-packages\\sklearn\\utils\\deprecation.py:87: FutureWarning: Function plot_roc_curve is deprecated; Function :func:`plot_roc_curve` is deprecated in 1.0 and will be removed in 1.2. Use one of the class methods: :meth:`sklearn.metric.RocCurveDisplay.from_predictions` or :meth:`sklearn.metric.RocCurveDisplay.from_estimator`.\"\n",
      "2022/03/07 14:22:28 WARNING mlflow.utils.autologging_utils: MLflow autologging encountered a warning: \"C:\\Users\\Apprenant\\anaconda3\\envs\\rb_ds\\lib\\site-packages\\sklearn\\utils\\deprecation.py:87: FutureWarning: Function plot_precision_recall_curve is deprecated; Function `plot_precision_recall_curve` is deprecated in 1.0 and will be removed in 1.2. Use one of the class methods: PrecisionRecallDisplay.from_predictions or PrecisionRecallDisplay.from_estimator.\"\n",
      "2022/03/07 14:22:37 INFO mlflow.sklearn.utils: Logging the 5 best runs, 7 runs will be omitted.\n",
      "2022/03/07 14:22:37 WARNING mlflow.utils: Truncated the value of the key `steps`. Truncated value: `[('columntransformer', ColumnTransformer(transformers=[('pipeline',\n",
      "                                 Pipeline(steps=[('standardscaler',\n",
      "                                                  StandardScaler())]),\n",
      "                                 Index([...`\n",
      "2022/03/07 14:22:37 WARNING mlflow.utils: Truncated the value of the key `columntransformer`. Truncated value: `ColumnTransformer(transformers=[('pipeline',\n",
      "                                 Pipeline(steps=[('standardscaler',\n",
      "                                                  StandardScaler())]),\n",
      "                                 Index(['gender', 'SeniorCitize...`\n",
      "2022/03/07 14:22:37 WARNING mlflow.utils: Truncated the value of the key `columntransformer__transformers`. Truncated value: `[('pipeline', Pipeline(steps=[('standardscaler', StandardScaler())]), Index(['gender', 'SeniorCitizen', 'Partner', 'Dependents', 'tenure',\n",
      "       'PhoneService', 'MultipleLines', 'InternetService', 'OnlineSecurity',\n",
      "       'OnlineBackup', 'DeviceP...`\n",
      "2022/03/07 14:22:37 WARNING mlflow.utils: Truncated the value of the key `steps`. Truncated value: `[('columntransformer', ColumnTransformer(transformers=[('pipeline',\n",
      "                                 Pipeline(steps=[('standardscaler',\n",
      "                                                  StandardScaler())]),\n",
      "                                 Index([...`\n",
      "2022/03/07 14:22:37 WARNING mlflow.utils: Truncated the value of the key `columntransformer`. Truncated value: `ColumnTransformer(transformers=[('pipeline',\n",
      "                                 Pipeline(steps=[('standardscaler',\n",
      "                                                  StandardScaler())]),\n",
      "                                 Index(['gender', 'SeniorCitize...`\n",
      "2022/03/07 14:22:37 WARNING mlflow.utils: Truncated the value of the key `columntransformer__transformers`. Truncated value: `[('pipeline', Pipeline(steps=[('standardscaler', StandardScaler())]), Index(['gender', 'SeniorCitizen', 'Partner', 'Dependents', 'tenure',\n",
      "       'PhoneService', 'MultipleLines', 'InternetService', 'OnlineSecurity',\n",
      "       'OnlineBackup', 'DeviceP...`\n",
      "2022/03/07 14:22:37 WARNING mlflow.utils: Truncated the value of the key `steps`. Truncated value: `[('columntransformer', ColumnTransformer(transformers=[('pipeline',\n",
      "                                 Pipeline(steps=[('standardscaler',\n",
      "                                                  StandardScaler())]),\n",
      "                                 Index([...`\n",
      "2022/03/07 14:22:37 WARNING mlflow.utils: Truncated the value of the key `columntransformer`. Truncated value: `ColumnTransformer(transformers=[('pipeline',\n",
      "                                 Pipeline(steps=[('standardscaler',\n",
      "                                                  StandardScaler())]),\n",
      "                                 Index(['gender', 'SeniorCitize...`\n",
      "2022/03/07 14:22:37 WARNING mlflow.utils: Truncated the value of the key `columntransformer__transformers`. Truncated value: `[('pipeline', Pipeline(steps=[('standardscaler', StandardScaler())]), Index(['gender', 'SeniorCitizen', 'Partner', 'Dependents', 'tenure',\n",
      "       'PhoneService', 'MultipleLines', 'InternetService', 'OnlineSecurity',\n",
      "       'OnlineBackup', 'DeviceP...`\n",
      "2022/03/07 14:22:37 WARNING mlflow.utils: Truncated the value of the key `steps`. Truncated value: `[('columntransformer', ColumnTransformer(transformers=[('pipeline',\n",
      "                                 Pipeline(steps=[('standardscaler',\n",
      "                                                  StandardScaler())]),\n",
      "                                 Index([...`\n",
      "2022/03/07 14:22:37 WARNING mlflow.utils: Truncated the value of the key `columntransformer`. Truncated value: `ColumnTransformer(transformers=[('pipeline',\n",
      "                                 Pipeline(steps=[('standardscaler',\n",
      "                                                  StandardScaler())]),\n",
      "                                 Index(['gender', 'SeniorCitize...`\n",
      "2022/03/07 14:22:37 WARNING mlflow.utils: Truncated the value of the key `columntransformer__transformers`. Truncated value: `[('pipeline', Pipeline(steps=[('standardscaler', StandardScaler())]), Index(['gender', 'SeniorCitizen', 'Partner', 'Dependents', 'tenure',\n",
      "       'PhoneService', 'MultipleLines', 'InternetService', 'OnlineSecurity',\n",
      "       'OnlineBackup', 'DeviceP...`\n",
      "2022/03/07 14:22:37 WARNING mlflow.utils: Truncated the value of the key `steps`. Truncated value: `[('columntransformer', ColumnTransformer(transformers=[('pipeline',\n",
      "                                 Pipeline(steps=[('standardscaler',\n",
      "                                                  StandardScaler())]),\n",
      "                                 Index([...`\n",
      "2022/03/07 14:22:37 WARNING mlflow.utils: Truncated the value of the key `columntransformer`. Truncated value: `ColumnTransformer(transformers=[('pipeline',\n",
      "                                 Pipeline(steps=[('standardscaler',\n",
      "                                                  StandardScaler())]),\n",
      "                                 Index(['gender', 'SeniorCitize...`\n",
      "2022/03/07 14:22:37 WARNING mlflow.utils: Truncated the value of the key `columntransformer__transformers`. Truncated value: `[('pipeline', Pipeline(steps=[('standardscaler', StandardScaler())]), Index(['gender', 'SeniorCitizen', 'Partner', 'Dependents', 'tenure',\n",
      "       'PhoneService', 'MultipleLines', 'InternetService', 'OnlineSecurity',\n",
      "       'OnlineBackup', 'DeviceP...`\n"
     ]
    },
    {
     "data": {
      "text/plain": [
       "{'kneighborsclassifier__algorithm': 'kd_tree',\n",
       " 'kneighborsclassifier__leaf_size': 40,\n",
       " 'kneighborsclassifier__metric': 'manhattan',\n",
       " 'kneighborsclassifier__n_neighbors': 25}"
      ]
     },
     "execution_count": 58,
     "metadata": {},
     "output_type": "execute_result"
    }
   ],
   "source": [
    "param_knn = {\"kneighborsclassifier__n_neighbors\":[15, 18, 20, 25],\"kneighborsclassifier__algorithm\":[\"kd_tree\"],\n",
    "                       \"kneighborsclassifier__metric\":[\"manhattan\"],\"kneighborsclassifier__leaf_size\":[35, 40, 55]}\n",
    "grid_knn = GridSearchCV(k_nn, param_knn, scoring='roc_auc',cv=5)\n",
    "grid_knn.fit(X_train, y_train)\n",
    "grid_knn.best_params_"
   ]
  },
  {
   "cell_type": "code",
   "execution_count": 59,
   "metadata": {},
   "outputs": [
    {
     "name": "stderr",
     "output_type": "stream",
     "text": [
      "2022/03/07 14:22:37 INFO mlflow.utils.autologging_utils: Created MLflow autologging run with ID '6a44603eedb74e32bda0ba59a9ed1954', which will track hyperparameters, performance metrics, model artifacts, and lineage information for the current sklearn workflow\n",
      "2022/03/07 14:22:37 WARNING mlflow.utils: Truncated the value of the key `estimator`. Truncated value: `Pipeline(steps=[('columntransformer',\n",
      "                 ColumnTransformer(transformers=[('pipeline',\n",
      "                                                  Pipeline(steps=[('standardscaler',\n",
      "                                                              ...`\n",
      "2022/03/07 14:22:37 WARNING mlflow.utils: Truncated the value of the key `param_grid`. Truncated value: `{'kneighborsclassifier__n_neighbors': array([25, 26, 27, 28, 29, 30, 31, 32, 33, 34, 35, 36, 37, 38, 39, 40, 41,\n",
      "       42, 43, 44, 45, 46, 47, 48, 49, 50, 51, 52, 53, 54, 55, 56, 57, 58,\n",
      "       59, 60, 61, 62, 63, 64, 65, 66, 67, 68, 69, 70, 71, ...`\n",
      "2022/03/07 14:24:04 WARNING mlflow.utils.autologging_utils: MLflow autologging encountered a warning: \"C:\\Users\\Apprenant\\anaconda3\\envs\\rb_ds\\lib\\site-packages\\sklearn\\utils\\deprecation.py:87: FutureWarning: Function plot_confusion_matrix is deprecated; Function `plot_confusion_matrix` is deprecated in 1.0 and will be removed in 1.2. Use one of the class methods: ConfusionMatrixDisplay.from_predictions or ConfusionMatrixDisplay.from_estimator.\"\n",
      "2022/03/07 14:24:06 WARNING mlflow.utils.autologging_utils: MLflow autologging encountered a warning: \"C:\\Users\\Apprenant\\anaconda3\\envs\\rb_ds\\lib\\site-packages\\sklearn\\utils\\deprecation.py:87: FutureWarning: Function plot_roc_curve is deprecated; Function :func:`plot_roc_curve` is deprecated in 1.0 and will be removed in 1.2. Use one of the class methods: :meth:`sklearn.metric.RocCurveDisplay.from_predictions` or :meth:`sklearn.metric.RocCurveDisplay.from_estimator`.\"\n",
      "2022/03/07 14:24:07 WARNING mlflow.utils.autologging_utils: MLflow autologging encountered a warning: \"C:\\Users\\Apprenant\\anaconda3\\envs\\rb_ds\\lib\\site-packages\\sklearn\\utils\\deprecation.py:87: FutureWarning: Function plot_precision_recall_curve is deprecated; Function `plot_precision_recall_curve` is deprecated in 1.0 and will be removed in 1.2. Use one of the class methods: PrecisionRecallDisplay.from_predictions or PrecisionRecallDisplay.from_estimator.\"\n",
      "2022/03/07 14:24:16 INFO mlflow.sklearn.utils: Logging the 5 best runs, 70 runs will be omitted.\n",
      "2022/03/07 14:24:16 WARNING mlflow.utils: Truncated the value of the key `steps`. Truncated value: `[('columntransformer', ColumnTransformer(transformers=[('pipeline',\n",
      "                                 Pipeline(steps=[('standardscaler',\n",
      "                                                  StandardScaler())]),\n",
      "                                 Index([...`\n",
      "2022/03/07 14:24:16 WARNING mlflow.utils: Truncated the value of the key `columntransformer`. Truncated value: `ColumnTransformer(transformers=[('pipeline',\n",
      "                                 Pipeline(steps=[('standardscaler',\n",
      "                                                  StandardScaler())]),\n",
      "                                 Index(['gender', 'SeniorCitize...`\n",
      "2022/03/07 14:24:16 WARNING mlflow.utils: Truncated the value of the key `columntransformer__transformers`. Truncated value: `[('pipeline', Pipeline(steps=[('standardscaler', StandardScaler())]), Index(['gender', 'SeniorCitizen', 'Partner', 'Dependents', 'tenure',\n",
      "       'PhoneService', 'MultipleLines', 'InternetService', 'OnlineSecurity',\n",
      "       'OnlineBackup', 'DeviceP...`\n",
      "2022/03/07 14:24:16 WARNING mlflow.utils: Truncated the value of the key `steps`. Truncated value: `[('columntransformer', ColumnTransformer(transformers=[('pipeline',\n",
      "                                 Pipeline(steps=[('standardscaler',\n",
      "                                                  StandardScaler())]),\n",
      "                                 Index([...`\n",
      "2022/03/07 14:24:16 WARNING mlflow.utils: Truncated the value of the key `columntransformer`. Truncated value: `ColumnTransformer(transformers=[('pipeline',\n",
      "                                 Pipeline(steps=[('standardscaler',\n",
      "                                                  StandardScaler())]),\n",
      "                                 Index(['gender', 'SeniorCitize...`\n",
      "2022/03/07 14:24:16 WARNING mlflow.utils: Truncated the value of the key `columntransformer__transformers`. Truncated value: `[('pipeline', Pipeline(steps=[('standardscaler', StandardScaler())]), Index(['gender', 'SeniorCitizen', 'Partner', 'Dependents', 'tenure',\n",
      "       'PhoneService', 'MultipleLines', 'InternetService', 'OnlineSecurity',\n",
      "       'OnlineBackup', 'DeviceP...`\n",
      "2022/03/07 14:24:16 WARNING mlflow.utils: Truncated the value of the key `steps`. Truncated value: `[('columntransformer', ColumnTransformer(transformers=[('pipeline',\n",
      "                                 Pipeline(steps=[('standardscaler',\n",
      "                                                  StandardScaler())]),\n",
      "                                 Index([...`\n",
      "2022/03/07 14:24:16 WARNING mlflow.utils: Truncated the value of the key `columntransformer`. Truncated value: `ColumnTransformer(transformers=[('pipeline',\n",
      "                                 Pipeline(steps=[('standardscaler',\n",
      "                                                  StandardScaler())]),\n",
      "                                 Index(['gender', 'SeniorCitize...`\n",
      "2022/03/07 14:24:16 WARNING mlflow.utils: Truncated the value of the key `columntransformer__transformers`. Truncated value: `[('pipeline', Pipeline(steps=[('standardscaler', StandardScaler())]), Index(['gender', 'SeniorCitizen', 'Partner', 'Dependents', 'tenure',\n",
      "       'PhoneService', 'MultipleLines', 'InternetService', 'OnlineSecurity',\n",
      "       'OnlineBackup', 'DeviceP...`\n",
      "2022/03/07 14:24:16 WARNING mlflow.utils: Truncated the value of the key `steps`. Truncated value: `[('columntransformer', ColumnTransformer(transformers=[('pipeline',\n",
      "                                 Pipeline(steps=[('standardscaler',\n",
      "                                                  StandardScaler())]),\n",
      "                                 Index([...`\n",
      "2022/03/07 14:24:16 WARNING mlflow.utils: Truncated the value of the key `columntransformer`. Truncated value: `ColumnTransformer(transformers=[('pipeline',\n",
      "                                 Pipeline(steps=[('standardscaler',\n",
      "                                                  StandardScaler())]),\n",
      "                                 Index(['gender', 'SeniorCitize...`\n",
      "2022/03/07 14:24:16 WARNING mlflow.utils: Truncated the value of the key `columntransformer__transformers`. Truncated value: `[('pipeline', Pipeline(steps=[('standardscaler', StandardScaler())]), Index(['gender', 'SeniorCitizen', 'Partner', 'Dependents', 'tenure',\n",
      "       'PhoneService', 'MultipleLines', 'InternetService', 'OnlineSecurity',\n",
      "       'OnlineBackup', 'DeviceP...`\n",
      "2022/03/07 14:24:16 WARNING mlflow.utils: Truncated the value of the key `steps`. Truncated value: `[('columntransformer', ColumnTransformer(transformers=[('pipeline',\n",
      "                                 Pipeline(steps=[('standardscaler',\n",
      "                                                  StandardScaler())]),\n",
      "                                 Index([...`\n",
      "2022/03/07 14:24:16 WARNING mlflow.utils: Truncated the value of the key `columntransformer`. Truncated value: `ColumnTransformer(transformers=[('pipeline',\n",
      "                                 Pipeline(steps=[('standardscaler',\n",
      "                                                  StandardScaler())]),\n",
      "                                 Index(['gender', 'SeniorCitize...`\n",
      "2022/03/07 14:24:16 WARNING mlflow.utils: Truncated the value of the key `columntransformer__transformers`. Truncated value: `[('pipeline', Pipeline(steps=[('standardscaler', StandardScaler())]), Index(['gender', 'SeniorCitizen', 'Partner', 'Dependents', 'tenure',\n",
      "       'PhoneService', 'MultipleLines', 'InternetService', 'OnlineSecurity',\n",
      "       'OnlineBackup', 'DeviceP...`\n"
     ]
    }
   ],
   "source": [
    "param_knn = {\"kneighborsclassifier__n_neighbors\":np.arange(25,100,1),\"kneighborsclassifier__algorithm\":[\"kd_tree\"],\n",
    "                       \"kneighborsclassifier__metric\":[\"manhattan\"],\"kneighborsclassifier__leaf_size\":[40]}\n",
    "grid_knn = GridSearchCV(k_nn, param_knn, scoring='roc_auc',cv=5)\n",
    "grid_knn.fit(X_train, y_train)\n",
    "grid_knn.best_params_\n",
    "k_nn_params = grid_decision.best_params_"
   ]
  },
  {
   "cell_type": "code",
   "execution_count": 63,
   "metadata": {},
   "outputs": [
    {
     "data": {
      "text/plain": [
       "Pipeline(steps=[('columntransformer',\n",
       "                 ColumnTransformer(transformers=[('pipeline',\n",
       "                                                  Pipeline(steps=[('standardscaler',\n",
       "                                                                   StandardScaler())]),\n",
       "                                                  Index(['gender', 'SeniorCitizen', 'Partner', 'Dependents', 'tenure',\n",
       "       'PhoneService', 'MultipleLines', 'InternetService', 'OnlineSecurity',\n",
       "       'OnlineBackup', 'DeviceProtection', 'TechSupport', 'StreamingTV',\n",
       "       'StreamingMovies', 'Contract', 'PaperlessBilling', 'PaymentMethod',\n",
       "       'MonthlyCharges', 'TotalCharges', 'Service', 'nbr_option_internet'],\n",
       "      dtype='object'))])),\n",
       "                ('kneighborsclassifier',\n",
       "                 KNeighborsClassifier(algorithm='kd_tree', leaf_size=40,\n",
       "                                      metric='manhattan', n_neighbors=68))])"
      ]
     },
     "execution_count": 63,
     "metadata": {},
     "output_type": "execute_result"
    }
   ],
   "source": [
    "k_nn_model = grid_knn.best_estimator_\n",
    "k_nn_model"
   ]
  },
  {
   "cell_type": "code",
   "execution_count": 60,
   "metadata": {},
   "outputs": [],
   "source": [
    "def eval_metrics(actual, pred):\n",
    "    accuracy = accuracy_score(actual, pred)\n",
    "    f1 = f1_score(actual, pred)\n",
    "    recall = recall_score(actual, pred)\n",
    "    precision = precision_score(actual, pred)\n",
    "    return accuracy, f1, recall, precision"
   ]
  },
  {
   "cell_type": "code",
   "execution_count": 68,
   "metadata": {},
   "outputs": [
    {
     "name": "stderr",
     "output_type": "stream",
     "text": [
      "2022/03/07 14:26:45 WARNING mlflow.utils: Truncated the value of the key `steps`. Truncated value: `[('columntransformer', ColumnTransformer(transformers=[('pipeline',\n",
      "                                 Pipeline(steps=[('standardscaler',\n",
      "                                                  StandardScaler())]),\n",
      "                                 Index([...`\n",
      "2022/03/07 14:26:45 WARNING mlflow.utils: Truncated the value of the key `columntransformer`. Truncated value: `ColumnTransformer(transformers=[('pipeline',\n",
      "                                 Pipeline(steps=[('standardscaler',\n",
      "                                                  StandardScaler())]),\n",
      "                                 Index(['gender', 'SeniorCitize...`\n",
      "2022/03/07 14:26:45 WARNING mlflow.utils: Truncated the value of the key `columntransformer__transformers`. Truncated value: `[('pipeline', Pipeline(steps=[('standardscaler', StandardScaler())]), Index(['gender', 'SeniorCitizen', 'Partner', 'Dependents', 'tenure',\n",
      "       'PhoneService', 'MultipleLines', 'InternetService', 'OnlineSecurity',\n",
      "       'OnlineBackup', 'DeviceP...`\n",
      "2022/03/07 14:26:48 WARNING mlflow.utils.autologging_utils: MLflow autologging encountered a warning: \"C:\\Users\\Apprenant\\anaconda3\\envs\\rb_ds\\lib\\site-packages\\sklearn\\utils\\deprecation.py:87: FutureWarning: Function plot_confusion_matrix is deprecated; Function `plot_confusion_matrix` is deprecated in 1.0 and will be removed in 1.2. Use one of the class methods: ConfusionMatrixDisplay.from_predictions or ConfusionMatrixDisplay.from_estimator.\"\n",
      "2022/03/07 14:26:49 WARNING mlflow.utils.autologging_utils: MLflow autologging encountered a warning: \"C:\\Users\\Apprenant\\anaconda3\\envs\\rb_ds\\lib\\site-packages\\sklearn\\utils\\deprecation.py:87: FutureWarning: Function plot_roc_curve is deprecated; Function :func:`plot_roc_curve` is deprecated in 1.0 and will be removed in 1.2. Use one of the class methods: :meth:`sklearn.metric.RocCurveDisplay.from_predictions` or :meth:`sklearn.metric.RocCurveDisplay.from_estimator`.\"\n",
      "2022/03/07 14:26:51 WARNING mlflow.utils.autologging_utils: MLflow autologging encountered a warning: \"C:\\Users\\Apprenant\\anaconda3\\envs\\rb_ds\\lib\\site-packages\\sklearn\\utils\\deprecation.py:87: FutureWarning: Function plot_precision_recall_curve is deprecated; Function `plot_precision_recall_curve` is deprecated in 1.0 and will be removed in 1.2. Use one of the class methods: PrecisionRecallDisplay.from_predictions or PrecisionRecallDisplay.from_estimator.\"\n"
     ]
    },
    {
     "name": "stdout",
     "output_type": "stream",
     "text": [
      "  accuracy: 0.7889125799573561\n",
      "  f1: 0.6013422818791946\n",
      "  recall: 0.6120218579234973\n",
      "  precision: 0.5910290237467019\n",
      "ROC = 0.8361679343632384\n"
     ]
    },
    {
     "name": "stderr",
     "output_type": "stream",
     "text": [
      "Function plot_roc_curve is deprecated; Function :func:`plot_roc_curve` is deprecated in 1.0 and will be removed in 1.2. Use one of the class methods: :meth:`sklearn.metric.RocCurveDisplay.from_predictions` or :meth:`sklearn.metric.RocCurveDisplay.from_estimator`.\n"
     ]
    },
    {
     "data": {
      "text/plain": [
       "<sklearn.metrics._plot.roc_curve.RocCurveDisplay at 0x1f6b88ad5e0>"
      ]
     },
     "execution_count": 68,
     "metadata": {},
     "output_type": "execute_result"
    },
    {
     "data": {
      "image/png": "[encoded data removed]",
      "text/plain": [
       "<Figure size 432x288 with 1 Axes>"
      ]
     },
     "metadata": {
      "needs_background": "light"
     },
     "output_type": "display_data"
    }
   ],
   "source": [
    "with mlflow.start_run(experiment_id = 1):\n",
    "    model = k_nn_model.fit(X_train, y_train)\n",
    "    y_pred = (model.predict_proba(X_test)[:,1] >= 0.48).astype(bool)\n",
    "    y_pred_proba = model.predict_proba(X_test)\n",
    "    \n",
    "    accuracy, f1, recall, precision = eval_metrics(y_test, y_pred)\n",
    "    print(\"  accuracy: %s\" % accuracy)\n",
    "    print(\"  f1: %s\" % f1)\n",
    "    print(\"  recall: %s\" % recall) \n",
    "    print(\"  precision: %s\" % precision)  \n",
    "\n",
    "    print(f'ROC = {roc_auc_score(y_test, y_pred_proba[:,1])}')\n",
    "    mlflow.log_param(\"Variables\", X_test.columns)\n",
    "    \n",
    "    tracking_url_type_store = urlparse(mlflow.get_tracking_uri()).scheme\n",
    "\n",
    "    if tracking_url_type_store != \"file\":\n",
    "        mlflow.sklearn.log_model(model, \"model\", registered_model_name=\"KNN\")\n",
    "    else:\n",
    "        mlflow.sklearn.log_model(model, \"model\") \n",
    "\n",
    "plot_roc_curve(model, X_test, y_test)"
   ]
  }
 ],
 "metadata": {
  "interpreter": {
   "hash": "e8e72ecd218193d245fb3b010d45ad55dac7ff54b5052aa4883c6a911d9d65f6"
  },
  "kernelspec": {
   "display_name": "Python 3.9.7 ('rb_ds')",
   "language": "python",
   "name": "python3"
  },
  "language_info": {
   "codemirror_mode": {
    "name": "ipython",
    "version": 3
   },
   "file_extension": ".py",
   "mimetype": "text/x-python",
   "name": "python",
   "nbconvert_exporter": "python",
   "pygments_lexer": "ipython3",
   "version": "3.9.7"
  },
  "orig_nbformat": 4
 },
 "nbformat": 4,
 "nbformat_minor": 2
}
