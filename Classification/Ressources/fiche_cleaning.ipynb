{
 "cells": [
  {
   "cell_type": "markdown",
   "metadata": {},
   "source": [
    "## I Selection des données"
   ]
  },
  {
   "cell_type": "markdown",
   "metadata": {},
   "source": [
    "### I.1 Selection par ligne"
   ]
  },
  {
   "cell_type": "code",
   "execution_count": 1,
   "metadata": {},
   "outputs": [
    {
     "ename": "NameError",
     "evalue": "name 'df' is not defined",
     "output_type": "error",
     "traceback": [
      "\u001b[0;31m---------------------------------------------------------------------------\u001b[0m",
      "\u001b[0;31mNameError\u001b[0m                                 Traceback (most recent call last)",
      "\u001b[0;32m<ipython-input-1-1bf3cb04ffd5>\u001b[0m in \u001b[0;36m<module>\u001b[0;34m\u001b[0m\n\u001b[0;32m----> 1\u001b[0;31m \u001b[0mdf\u001b[0m \u001b[0;34m=\u001b[0m \u001b[0mdf\u001b[0m\u001b[0;34m[\u001b[0m\u001b[0mdf\u001b[0m\u001b[0;34m[\u001b[0m\u001b[0;34m'sector'\u001b[0m\u001b[0;34m]\u001b[0m \u001b[0;34m!=\u001b[0m \u001b[0;34m\"Student\"\u001b[0m\u001b[0;34m]\u001b[0m\u001b[0;34m\u001b[0m\u001b[0;34m\u001b[0m\u001b[0m\n\u001b[0m",
      "\u001b[0;31mNameError\u001b[0m: name 'df' is not defined"
     ]
    }
   ],
   "source": [
    "df = df[df['sector'] != \"Student\"]"
   ]
  },
  {
   "cell_type": "markdown",
   "metadata": {},
   "source": [
    "### I.2 Sélection par colonne"
   ]
  },
  {
   "cell_type": "code",
   "execution_count": null,
   "metadata": {},
   "outputs": [],
   "source": [
    "key_cols = ['SalaryUSD','Country','PostalCode','EmploymentStatus','JobTitle','ManageStaff','YearsWithThisTypeOfJob',\n",
    "          'HowManyCompanies','OtherPeopleOnYourTeam', 'CompanyEmployeesOverall',\"HoursWorkedPerWeek\",\n",
    "          'PopulationOfLargestCityWithin20Miles','EmploymentSector', 'LookingForAnotherJob', 'CareerPlansThisYear',\n",
    "          'Gender', 'OtherJobDuties']\n",
    "\n",
    "df = df[key_cols]\n",
    "\n"
   ]
  },
  {
   "cell_type": "markdown",
   "metadata": {},
   "source": [
    "Renomage des colonnes"
   ]
  },
  {
   "cell_type": "code",
   "execution_count": null,
   "metadata": {},
   "outputs": [],
   "source": [
    "names_cols = {\n",
    "    \"Country\": \"location\",\n",
    "    \"SalaryUSD\": \"salary\",\n",
    "    \"JobTitle\": \"job_title\",\n",
    "    \"YearsWithThisTypeOfJob\": \"experience\",\n",
    "    \"HowManyCompanies\": \"num_of_compagnies\",\n",
    "    \"OtherPeopleOnYourTeam\": \"team_size\",\n",
    "    \"HoursWorkedPerWeek\": \"work_hours_per_week\",\n",
    "    \"EmploymentStatus\": \"status\",\n",
    "    \"LookingForAnotherJob\": \"lf_jobs\",\n",
    "    \"PostalCode\": \"postal_code\",\n",
    "    \"ManageStaff\": \"manage\",\n",
    "    \"CompanyEmployeesOverall\": \"num_of_employees\",\n",
    "    \"PopulationOfLargestCityWithin20Miles\": \"city_population\",\n",
    "    \"EmploymentSector\" : \"sector\",\n",
    "    \"CareerPlansThisYear\": \"career_plans\",\n",
    "    \"OtherJobDuties\": \"other_job_duties\"   \n",
    "}\n",
    "\n",
    "rename_cols(df, names_cols)"
   ]
  },
  {
   "cell_type": "markdown",
   "metadata": {},
   "source": [
    "## II Traitement des Doublons"
   ]
  },
  {
   "cell_type": "markdown",
   "metadata": {},
   "source": [
    "### II.1 Recherche des doublons"
   ]
  },
  {
   "cell_type": "code",
   "execution_count": null,
   "metadata": {},
   "outputs": [],
   "source": [
    "print(df1.duplicated().value_counts())"
   ]
  },
  {
   "cell_type": "markdown",
   "metadata": {},
   "source": [
    "### II.2 Traitement des doublons"
   ]
  },
  {
   "cell_type": "markdown",
   "metadata": {},
   "source": [
    "Warning: Si vous recherchez des doublons dans une table réduite, vous devez vérifier que ces instances étaient des doublons sur la base brute. La question à se poser c'est \"est ce une erreur et les deux lignes correspondent au même individu ou est-ce deux individus différents qui ont exactement les mêmes données et que je dois donc concerver tous les deux dans la base?\""
   ]
  },
  {
   "cell_type": "code",
   "execution_count": null,
   "metadata": {},
   "outputs": [],
   "source": [
    "df.drop_duplicates(subset=df.columns.difference(['Timestamp']), inplace = True)"
   ]
  },
  {
   "cell_type": "markdown",
   "metadata": {},
   "source": [
    "## III Traitement des valeurs manquantes"
   ]
  },
  {
   "cell_type": "markdown",
   "metadata": {},
   "source": [
    "### 1. Recherche des valeurs manquantes"
   ]
  },
  {
   "cell_type": "code",
   "execution_count": null,
   "metadata": {},
   "outputs": [],
   "source": [
    "#recherche des valeurs manquantes:\n",
    "\n",
    "print(df1.isnull().sum()) \n",
    "print(df.isna().sum())\n",
    "print(df1.shape)"
   ]
  },
  {
   "cell_type": "markdown",
   "metadata": {},
   "source": [
    "### 2. Traitement des valeurs manquantes"
   ]
  },
  {
   "cell_type": "markdown",
   "metadata": {},
   "source": [
    "La question à se poser est \"Que faire de mes données manquantes\""
   ]
  },
  {
   "cell_type": "markdown",
   "metadata": {},
   "source": [
    "1. La variable pour laquelle il me manque une valeur est centrale pour mon étude (type variable à expliquée), l'ensemble de ma ligne est donc inutile"
   ]
  },
  {
   "cell_type": "code",
   "execution_count": null,
   "metadata": {},
   "outputs": [],
   "source": [
    "# remove all the rows that contain a missing value\n",
    "nfl_data.dropna()"
   ]
  },
  {
   "cell_type": "markdown",
   "metadata": {},
   "source": [
    "2. J'ai une variable, peu importante auquelle il manque une grande partie des valeurs, elle est donc inutilisable. Je choisis de la supprimer."
   ]
  },
  {
   "cell_type": "code",
   "execution_count": null,
   "metadata": {},
   "outputs": [],
   "source": [
    "# remove all columns with at least one missing value\n",
    "columns_with_na_dropped = nfl_data.dropna(axis=1)"
   ]
  },
  {
   "cell_type": "markdown",
   "metadata": {},
   "source": [
    "3. Ma variable est importante et je veux pouvoir faire des calculs dessus (empéché par les Nan), je remplace par une valeur (0 ou la moyenne)"
   ]
  },
  {
   "cell_type": "code",
   "execution_count": null,
   "metadata": {},
   "outputs": [],
   "source": [
    "# replace all NA's with 0\n",
    "subset_nfl_data.fillna(0)"
   ]
  },
  {
   "cell_type": "markdown",
   "metadata": {},
   "source": [
    "4. Ma variable est importante et ordonnés, je remplace la valeur par sa précédente."
   ]
  },
  {
   "cell_type": "code",
   "execution_count": null,
   "metadata": {},
   "outputs": [],
   "source": [
    "# replace all NA's the value that comes directly after it in the same column, \n",
    "# then replace all the remaining na's with 0\n",
    "subset_nfl_data.fillna(method='bfill', axis=0).fillna(0)"
   ]
  },
  {
   "cell_type": "markdown",
   "metadata": {},
   "source": [
    "5. Ma variable est importante et je n'ai pas besoin d'y faire des calculs, je conserve les valeurs nulles."
   ]
  },
  {
   "cell_type": "markdown",
   "metadata": {},
   "source": [
    "## IV Assigner le bon type aux données"
   ]
  },
  {
   "cell_type": "markdown",
   "metadata": {},
   "source": [
    "### IV.1 Exploration des types"
   ]
  },
  {
   "cell_type": "code",
   "execution_count": null,
   "metadata": {},
   "outputs": [],
   "source": [
    "df.dtypes"
   ]
  },
  {
   "cell_type": "markdown",
   "metadata": {},
   "source": [
    "### IV.2 Traitement des types"
   ]
  },
  {
   "cell_type": "code",
   "execution_count": null,
   "metadata": {},
   "outputs": [],
   "source": [
    "# create a new column, date_parsed, with the parsed dates\n",
    "df['date_parsed'] = pd.to_datetime(df['date'], format=\"%m/%d/%y\")\n",
    "\n",
    "# Transformation d'un varchar en float\n",
    "df['team_size'] = df['team_size'].astype(\"float\")\n",
    "\n",
    "# Récupération de la partie numérique d'une variable type texte à l'aide d'une expression régulière\n",
    "df['min_salary']=df['salary'].str.extract(r'^[^\\d]*(\\d+)').astype(\"int32\")*1000"
   ]
  },
  {
   "cell_type": "markdown",
   "metadata": {},
   "source": [
    "## V Consistance, reformatage et valeurs abbérantes."
   ]
  },
  {
   "cell_type": "markdown",
   "metadata": {},
   "source": [
    "### V.1 Evaluer la consistance des variables de type caractère."
   ]
  },
  {
   "cell_type": "markdown",
   "metadata": {},
   "source": [
    "#### Afficher l'ensemble des valeurs uniques"
   ]
  },
  {
   "cell_type": "code",
   "execution_count": null,
   "metadata": {},
   "outputs": [],
   "source": [
    "print(sorted(df['Column Name'].unique()))\n",
    "df1[\"JobTitle\"].value_counts()"
   ]
  },
  {
   "cell_type": "markdown",
   "metadata": {},
   "source": [
    "#### Traitement de la consistence"
   ]
  },
  {
   "cell_type": "code",
   "execution_count": null,
   "metadata": {},
   "outputs": [],
   "source": [
    "# convert to lower case\n",
    "professors['Country'] = professors['Country'].str.lower()\n",
    "# remove trailing white spaces\n",
    "professors['Country'] = professors['Country'].str.strip()"
   ]
  },
  {
   "cell_type": "markdown",
   "metadata": {},
   "source": [
    "#### Modifier les valeurs peu représentées d'une colonne"
   ]
  },
  {
   "cell_type": "markdown",
   "metadata": {},
   "source": [
    "L'interet d'avoir moins de catégories est d'avoir des visualisations plus propres et des catégories plus consistantes en vue du machine learning. \n",
    "\n",
    "La question à se poser: \"Est ce que cette catégorie est suffisament différente des autres et représentée au sein de mon échantillon pour justifier d'être isolée?\""
   ]
  },
  {
   "cell_type": "markdown",
   "metadata": {},
   "source": [
    "##### Traitement à partir des valeurs"
   ]
  },
  {
   "cell_type": "code",
   "execution_count": null,
   "metadata": {},
   "outputs": [],
   "source": [
    "# utiliser une fonction lambda à une condition\n",
    "df1[\"JobTitle\"] = df1[\"JobTitle\"].apply(\n",
    "    lambda x: \"Database Admin\" if x.startswith('DBA') else x\n",
    ")\n",
    "\n",
    "# ou à plusieurs\n",
    "\n",
    "df1[\"HowManyCompanies\"] = df1[\"HowManyCompanies\"].apply(\n",
    "    lambda x: \"1\" if str(x).startswith('1') else \"2\" if str(x).startswith('2') else x\n",
    ")"
   ]
  },
  {
   "cell_type": "code",
   "execution_count": null,
   "metadata": {},
   "outputs": [],
   "source": [
    "# autre possibilité avec contains\n",
    "df.loc[(df[\"job_title\"].str.contains(\"DBA\")), \"job_title\"] = \"DBA\"\n"
   ]
  },
  {
   "cell_type": "code",
   "execution_count": null,
   "metadata": {},
   "outputs": [],
   "source": [
    "# utilisation de \"isin\"\n",
    "df1.loc[~df1[\"Gender\"].isin([\"Male\", \"Female\"]), \"Gender\"] = \"Other - NA\"\n",
    "# le tilde ~ permet de prendre l'opposé de la condition"
   ]
  },
  {
   "cell_type": "markdown",
   "metadata": {},
   "source": [
    "##### Traitement à partir du nombre d'occurence"
   ]
  },
  {
   "cell_type": "code",
   "execution_count": null,
   "metadata": {},
   "outputs": [],
   "source": [
    "s = df1[\"JobTitle\"].value_counts()\n",
    "df1.loc[df1[\"JobTitle\"].isin(s[(s < 5)].index), \"JobTitle\"] = \"Other\""
   ]
  },
  {
   "cell_type": "markdown",
   "metadata": {},
   "source": [
    "### V.2 Traitements des valeurs abbérantes des variables numériques"
   ]
  },
  {
   "cell_type": "markdown",
   "metadata": {},
   "source": [
    "Les valeurs abbérantes sont de deux types, elles sont soient \n",
    "- impossibles donc fausses et à supprimer\n",
    "- extrêmes donc génantes et à traiter\n",
    "\n",
    "La question à se pose est 'auquel de ces deux types correspond ma valeur abbérante\""
   ]
  },
  {
   "cell_type": "code",
   "execution_count": null,
   "metadata": {},
   "outputs": [],
   "source": [
    "#### Afficher des statistiques sur une variable"
   ]
  },
  {
   "cell_type": "code",
   "execution_count": null,
   "metadata": {},
   "outputs": [],
   "source": [
    "df1[\"SalaryUSD\"].describe()"
   ]
  },
  {
   "cell_type": "markdown",
   "metadata": {},
   "source": [
    "#### Afficher la distribution d'une variable numérique"
   ]
  },
  {
   "cell_type": "code",
   "execution_count": null,
   "metadata": {},
   "outputs": [],
   "source": [
    "plt.figure(figsize = (20,10))\n",
    "sns.boxenplot(x = df1[\"SalaryUSD\"], k_depth=\"proportion\")"
   ]
  },
  {
   "cell_type": "markdown",
   "metadata": {},
   "source": [
    "#### Traiter les valeurs impossibles"
   ]
  },
  {
   "cell_type": "code",
   "execution_count": null,
   "metadata": {},
   "outputs": [],
   "source": [
    "# Si la variable est au coeur de l'étude, ou si la fausseté à cette question \n",
    "# met en doute l'intégralité de l'instance, on peut supprimer celle-ci\n",
    "df1 = df1.drop(df1[df1[\"SalaryUSD\"] < 25000].index)\n",
    "\n",
    "# On peut choisir de supprimer la valeur mais de conserver l'instance.\n",
    "import numpy as np\n",
    "df1.loc[df1[\"SalaryUSD\"] < 25000, \"SalaryUSD\"] = None\n",
    "\n",
    "# On peut également conserver l'instance \n",
    "# en modifiant la valeur pour la remplacer par une valeur standard\n",
    "\n",
    "df1.loc[df1[\"SalaryUSD\"] < 25000, \"SalaryUSD\"] = df1['SalaryUSD'].mean()"
   ]
  },
  {
   "cell_type": "markdown",
   "metadata": {},
   "source": [
    "#### Traiter les valeurs extrèmes"
   ]
  },
  {
   "cell_type": "code",
   "execution_count": null,
   "metadata": {},
   "outputs": [],
   "source": [
    "# En fonction du problème traité, il peut être génant d'avoir des valeurs extrêmes\n",
    "# Il est possible dans ce cas de les plafonner. \n",
    "\n",
    "df1.loc[df1[\"SalaryUSD\"] > 500000, \"SalaryUSD\"] = 500000\n",
    "\n",
    "\"\"\"Le plafond doit être choisi avec attention, \n",
    "    - soit en fonction d'informations métiers\n",
    "    - soit au niveau d'une rupture de continuité dans la distribution de la variable\n",
    "\"\"\""
   ]
  }
 ],
 "metadata": {
  "kernelspec": {
   "display_name": "Python 3",
   "language": "python",
   "name": "python3"
  },
  "language_info": {
   "codemirror_mode": {
    "name": "ipython",
    "version": 3
   },
   "file_extension": ".py",
   "mimetype": "text/x-python",
   "name": "python",
   "nbconvert_exporter": "python",
   "pygments_lexer": "ipython3",
   "version": "3.8.5"
  }
 },
 "nbformat": 4,
 "nbformat_minor": 4
}
