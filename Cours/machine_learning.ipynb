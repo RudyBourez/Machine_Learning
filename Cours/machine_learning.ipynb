{
 "cells": [
  {
   "cell_type": "markdown",
   "metadata": {},
   "source": [
    "# <font color=\"red\">Machine learning </font>"
   ]
  },
  {
   "cell_type": "markdown",
   "metadata": {},
   "source": [
    "## <font color=\"blue\">Définitions</font>\n",
    "\n",
    "Le machine learning permet de donner la capacité à une machine d'apprendre sans la programmer explicitement.  \n",
    "Cela consiste à développer un modèle mathématique par rapport à des données. "
   ]
  },
  {
   "cell_type": "markdown",
   "metadata": {},
   "source": [
    "## <font color=\"blue\">Différents types d'apprentissage</font>\n",
    "\n",
    "Il existe 3 types d'apprentissages :\n",
    "* Apprentissage supervisé\n",
    "* Apprentissage non-supervisé\n",
    "* Apprentissage par renforcement"
   ]
  },
  {
   "cell_type": "markdown",
   "metadata": {},
   "source": [
    "## <font color=\"blue\">Apprentissage supervisé</font>\n",
    "\n",
    "La machine reçoit des données caractérisées par des variables x (**features**) et annotées d'une variable y (**label** | **target**).  \n",
    "La machine doit apprendre à prédire y en fonction des features x.  \n",
    "Etapes à réaliser :\n",
    "* Constitution d'un **dataset** avec de nombreuses données\n",
    "* Choix du **modèle** de machine learning avec les **hyperparamètres**\n",
    "* Algorithme d'optimisation pour trouver les meilleurs paramètres : **phase d'entraînement**"
   ]
  },
  {
   "cell_type": "markdown",
   "metadata": {},
   "source": [
    "|Modéle|Scaling |\n",
    "|---|---|\n",
    "|Régression Linéaire|non|  \n",
    "|Régression Logistique|non|\n",
    "|Régression linéaire (Lasso ouRidge)|oui|\n",
    "|Random Forest, XGBoost, Arbre de décision|oui|\n",
    "|SVM|oui|\n",
    "|Bayes (gaussian)|oui (Normalisation)|"
   ]
  },
  {
   "cell_type": "markdown",
   "metadata": {},
   "source": [
    "### <font color=\"green\">Scaling</font>"
   ]
  },
  {
   "cell_type": "markdown",
   "metadata": {},
   "source": [
    "On scale les valeurs continues (valeurs discrétes => Encoder)\n",
    "* **<font color=\"red\">MinMaxScaler**</font> => 0 à 1 (Ex: [0,16,32] => [0,0.5,1])\n",
    "* **<font color=\"red\">Robust Scaler**</font> => 0 à 1 (pareil que minmax mais moins d'impact avec les outliers)\n",
    "* **<font color=\"red\">Standard Scaler**</font> => moyenne à 0 et écart-type à 1 (Gaussienne)"
   ]
  }
 ],
 "metadata": {
  "language_info": {
   "name": "python"
  },
  "orig_nbformat": 4
 },
 "nbformat": 4,
 "nbformat_minor": 2
}
