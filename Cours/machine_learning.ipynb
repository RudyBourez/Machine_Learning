{
 "cells": [
  {
   "cell_type": "markdown",
   "metadata": {},
   "source": [
    "# <font color=\"red\">Machine learning </font>"
   ]
  },
  {
   "cell_type": "markdown",
   "metadata": {},
   "source": [
    "## <font color=\"blue\">Définitions</font>\n",
    "\n",
    "Le machine learning permet de donner la capacité à une machine d'apprendre sans la programmer explicitement.  \n",
    "Cela consiste à développer un modèle mathématique par rapport à des données. "
   ]
  },
  {
   "cell_type": "markdown",
   "metadata": {},
   "source": [
    "## <font color=\"blue\">Différents types d'apprentissage</font>\n",
    "\n",
    "Il existe 3 types d'apprentissages :\n",
    "* Apprentissage supervisé\n",
    "* Apprentissage non-supervisé\n",
    "* Apprentissage par renforcement"
   ]
  },
  {
   "cell_type": "markdown",
   "metadata": {},
   "source": [
    "## Apprentissage supervisé\n",
    "\n",
    "La machine reçoit des données caractérisées par des variables x (**features**) et annotées d'une variable y (**label** | **target**).  \n",
    "La machine doit apprendre à prédire y en fonction des features x.  \n",
    "Etapes à réaliser :\n",
    "* Constitution d'un **dataset** avec de nombreuses données\n",
    "* Choix du **modèle** de machine learning avec les **hyperparamètres**\n",
    "* Algorithme d'optimisation pour trouver les meilleurs paramètres : **phase d'entraînement**"
   ]
  }
 ],
 "metadata": {
  "language_info": {
   "name": "python"
  },
  "orig_nbformat": 4
 },
 "nbformat": 4,
 "nbformat_minor": 2
}
