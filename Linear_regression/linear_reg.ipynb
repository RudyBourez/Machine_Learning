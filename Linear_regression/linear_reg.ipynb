{
 "cells": [
  {
   "cell_type": "markdown",
   "metadata": {},
   "source": [
    "# Réalisez une régression linéaire sans utiliser de package python"
   ]
  },
  {
   "cell_type": "code",
   "execution_count": 1,
   "metadata": {},
   "outputs": [],
   "source": [
    "import pandas as pd\n",
    "import numpy as np\n",
    "import matplotlib.pyplot as plt"
   ]
  },
  {
   "cell_type": "markdown",
   "metadata": {},
   "source": [
    "## Implémentation de la normalisation (centrage et réduction)  \n",
    "Formule de la standardisation   "
   ]
  },
  {
   "cell_type": "markdown",
   "metadata": {},
   "source": [
    "<img src=\"img/CR.png\"\n",
    "     alt=\"Markdown Monster icon\"\n",
    "     style=\"float: left; margin-right: 10px;\" />"
   ]
  },
  {
   "cell_type": "code",
   "execution_count": 2,
   "metadata": {},
   "outputs": [],
   "source": [
    "mu = []\n",
    "std = []\n",
    "\n",
    "def normalize(data):\n",
    "\tfor i in range(0,data.shape[1]-1):\n",
    "\t\tmu.append(data[:,i].mean())\n",
    "\t\tstd.append(data[:,i].std())\n",
    "\t\tdata[:,i] = ((data[:,i] - np.mean(data[:,i]))/np.std(data[:, i]))"
   ]
  },
  {
   "cell_type": "markdown",
   "metadata": {},
   "source": [
    "## Import des données normalisées"
   ]
  },
  {
   "cell_type": "code",
   "execution_count": 3,
   "metadata": {},
   "outputs": [
    {
     "data": {
      "image/png": "[encoded data removed]",
      "text/plain": [
       "<Figure size 432x288 with 1 Axes>"
      ]
     },
     "metadata": {
      "needs_background": "light"
     },
     "output_type": "display_data"
    }
   ],
   "source": [
    "def plot_data(x, y):\n",
    "\tplt.xlabel('house size')\n",
    "\tplt.ylabel('price')\n",
    "\tplt.plot(x[:,0], y, 'bo')\n",
    "\tplt.show()\n",
    "\n",
    "def load_data(filename):\n",
    "\tdf = pd.read_csv(filename, sep=\",\", index_col=False)\n",
    "\tdf.columns = [\"housesize\", \"rooms\", \"price\"]\n",
    "\tdata = np.array(df, dtype=float)\n",
    "\tplot_data(data[:,:2], data[:, -1])\n",
    "\tnormalize(data)\n",
    "\treturn data[:,:2], data[:, -1]\n",
    "\n",
    "x,y = load_data(\"house_price_data.txt\")"
   ]
  },
  {
   "cell_type": "markdown",
   "metadata": {},
   "source": [
    "## Implémentation de la fonction h(x)  \n",
    "Les implémentations des fonctions suivantes sont vectorisées  \n",
    "<img src=\"img/vectorized_h.png\"\n",
    "     alt=\"Markdown Monster icon\"\n",
    "     style=\"float: left; margin-right: 10px;\" />"
   ]
  },
  {
   "cell_type": "code",
   "execution_count": 4,
   "metadata": {},
   "outputs": [],
   "source": [
    "def h(theta,x):\n",
    "\treturn np.dot(x, theta)"
   ]
  },
  {
   "cell_type": "markdown",
   "metadata": {},
   "source": [
    "## Implémentation de la fonction coût\n",
    "\n",
    "<img src=\"img/cost_function.png\"\n",
    "     alt=\"Markdown Monster icon\"\n",
    "     style=\"float: left; margin-right: 10px;\" />"
   ]
  },
  {
   "cell_type": "code",
   "execution_count": 5,
   "metadata": {},
   "outputs": [],
   "source": [
    "def cost_function(x, y, theta):\n",
    "\treturn np.dot((h(theta,x)-y).T, h(theta,x)-y) / (2*x.shape[1])"
   ]
  },
  {
   "cell_type": "markdown",
   "metadata": {},
   "source": [
    "## Implémentation de la descente du gradient  \n",
    "Definition epoch :  \n",
    "\n",
    "An epoch is a term used in machine learning and indicates the number of passes of the entire training dataset the machine learning algorithm has completed. Datasets are usually grouped into batches (especially when the amount of data is very large). ... Many models are created with more than one epoch\n",
    "\n",
    "<img src=\"img/vectorized_gradient-descent.png\"\n",
    "     alt=\"Markdown Monster icon\"\n",
    "     style=\"float: left; margin-right: 10px;\" />"
   ]
  },
  {
   "cell_type": "code",
   "execution_count": 6,
   "metadata": {},
   "outputs": [],
   "source": [
    "def gradient_descent(x, y, theta, learning_rate=0.1, num_epochs=10):\n",
    "\tm = x.shape[0]\n",
    "\tJ_all = []\n",
    "\t\n",
    "\tfor epoch in range(num_epochs):\n",
    "\t\th_x = h(theta,x)\n",
    "\t\tcost_ = np.dot(x.T, (h_x - y)) / m\n",
    "\t\ttheta = theta - (learning_rate)*cost_\n",
    "\t\tJ_all.append(cost_function(x, y, theta))\n",
    "\n",
    "\treturn theta, J_all "
   ]
  },
  {
   "cell_type": "markdown",
   "metadata": {},
   "source": [
    "## Test du code"
   ]
  },
  {
   "cell_type": "code",
   "execution_count": 7,
   "metadata": {},
   "outputs": [
    {
     "name": "stdout",
     "output_type": "stream",
     "text": [
      "Cost:  [[3.19662144e+10]]\n",
      "Parameters:  [[ 3.37371711e+05]\n",
      " [ 1.04066024e+05]\n",
      " [-6.47874139e+01]]\n"
     ]
    },
    {
     "data": {
      "image/png": "[encoded data removed]",
      "text/plain": [
       "<Figure size 432x288 with 1 Axes>"
      ]
     },
     "metadata": {
      "needs_background": "light"
     },
     "output_type": "display_data"
    },
    {
     "name": "stdout",
     "output_type": "stream",
     "text": [
      "Price of house:  [311311.48999522]\n"
     ]
    }
   ],
   "source": [
    "def plot_cost(J_all, num_epochs):\n",
    "\tplt.xlabel('Epochs')\n",
    "\tplt.ylabel('Cost')\n",
    "\tplt.plot(num_epochs, J_all, 'm', linewidth = \"5\")\n",
    "\tplt.show()\n",
    "    \n",
    "    \n",
    "def test(theta, x):\n",
    "\tx[0] = (x[0] - mu[0])/std[0]\n",
    "\tx[1] = (x[1] - mu[1])/std[1]\n",
    "\ty = theta[0] + theta[1]*x[0] + theta[2]*x[1]\n",
    "\tprint(\"Price of house: \", y)\n",
    "    \n",
    "    \n",
    "y = np.reshape(y, (46,1))\n",
    "x = np.hstack((np.ones((x.shape[0],1)), x))\n",
    "theta = np.zeros((x.shape[1], 1))\n",
    "learning_rate = 0.1\n",
    "num_epochs = 50\n",
    "theta, J_all = gradient_descent(x, y, theta, learning_rate, num_epochs)\n",
    "J = cost_function(x, y, theta)\n",
    "print(\"Cost: \", J)\n",
    "print(\"Parameters: \", theta)\n",
    "\n",
    "#for testing and plotting cost \n",
    "n_epochs = []\n",
    "jplot = []\n",
    "count = 0\n",
    "for i in J_all:\n",
    "\tjplot.append(i[0][0])\n",
    "\tn_epochs.append(count)\n",
    "\tcount += 1\n",
    "jplot = np.array(jplot)\n",
    "n_epochs = np.array(n_epochs)\n",
    "plot_cost(jplot, n_epochs)\n",
    "\n",
    "test(theta, [1800, 4])"
   ]
  }
 ],
 "metadata": {
  "interpreter": {
   "hash": "d457d1cc83040ac98c8dd870dea349ef0306f52a328750f608020eacd555d6b9"
  },
  "kernelspec": {
   "display_name": "Python 3.9.7 ('rudy_datascience')",
   "language": "python",
   "name": "python3"
  },
  "language_info": {
   "codemirror_mode": {
    "name": "ipython",
    "version": 3
   },
   "file_extension": ".py",
   "mimetype": "text/x-python",
   "name": "python",
   "nbconvert_exporter": "python",
   "pygments_lexer": "ipython3",
   "version": "3.9.7"
  },
  "orig_nbformat": 4
 },
 "nbformat": 4,
 "nbformat_minor": 2
}
