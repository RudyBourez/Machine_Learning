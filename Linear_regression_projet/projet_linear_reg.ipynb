{
 "cells": [
  {
   "cell_type": "markdown",
   "metadata": {},
   "source": [
    "# <font color=\"red\">Projet Régression Linéaire</font>"
   ]
  },
  {
   "cell_type": "code",
   "execution_count": 252,
   "metadata": {},
   "outputs": [],
   "source": [
    "import pandas as pd\n",
    "import numpy as np\n",
    "from matplotlib import pyplot as plt\n",
    "import seaborn as sns"
   ]
  },
  {
   "cell_type": "code",
   "execution_count": 263,
   "metadata": {},
   "outputs": [
    {
     "data": {
      "text/html": [
       "<div>\n",
       "<style scoped>\n",
       "    .dataframe tbody tr th:only-of-type {\n",
       "        vertical-align: middle;\n",
       "    }\n",
       "\n",
       "    .dataframe tbody tr th {\n",
       "        vertical-align: top;\n",
       "    }\n",
       "\n",
       "    .dataframe thead th {\n",
       "        text-align: right;\n",
       "    }\n",
       "</style>\n",
       "<table border=\"1\" class=\"dataframe\">\n",
       "  <thead>\n",
       "    <tr style=\"text-align: right;\">\n",
       "      <th></th>\n",
       "      <th>id</th>\n",
       "      <th>date</th>\n",
       "      <th>price</th>\n",
       "      <th>bedrooms</th>\n",
       "      <th>bathrooms</th>\n",
       "      <th>sqft_living</th>\n",
       "      <th>sqft_lot</th>\n",
       "      <th>floors</th>\n",
       "      <th>waterfront</th>\n",
       "      <th>view</th>\n",
       "      <th>...</th>\n",
       "      <th>grade</th>\n",
       "      <th>sqft_above</th>\n",
       "      <th>sqft_basement</th>\n",
       "      <th>yr_built</th>\n",
       "      <th>yr_renovated</th>\n",
       "      <th>zipcode</th>\n",
       "      <th>lat</th>\n",
       "      <th>long</th>\n",
       "      <th>sqft_living15</th>\n",
       "      <th>sqft_lot15</th>\n",
       "    </tr>\n",
       "  </thead>\n",
       "  <tbody>\n",
       "    <tr>\n",
       "      <th>0</th>\n",
       "      <td>7129300520</td>\n",
       "      <td>20141013T000000</td>\n",
       "      <td>221900.0</td>\n",
       "      <td>3</td>\n",
       "      <td>1.00</td>\n",
       "      <td>1180</td>\n",
       "      <td>5650</td>\n",
       "      <td>1.0</td>\n",
       "      <td>0</td>\n",
       "      <td>0</td>\n",
       "      <td>...</td>\n",
       "      <td>7</td>\n",
       "      <td>1180</td>\n",
       "      <td>0</td>\n",
       "      <td>1955</td>\n",
       "      <td>0</td>\n",
       "      <td>98178</td>\n",
       "      <td>47.5112</td>\n",
       "      <td>-122.257</td>\n",
       "      <td>1340</td>\n",
       "      <td>5650</td>\n",
       "    </tr>\n",
       "    <tr>\n",
       "      <th>1</th>\n",
       "      <td>6414100192</td>\n",
       "      <td>20141209T000000</td>\n",
       "      <td>538000.0</td>\n",
       "      <td>3</td>\n",
       "      <td>2.25</td>\n",
       "      <td>2570</td>\n",
       "      <td>7242</td>\n",
       "      <td>2.0</td>\n",
       "      <td>0</td>\n",
       "      <td>0</td>\n",
       "      <td>...</td>\n",
       "      <td>7</td>\n",
       "      <td>2170</td>\n",
       "      <td>400</td>\n",
       "      <td>1951</td>\n",
       "      <td>1991</td>\n",
       "      <td>98125</td>\n",
       "      <td>47.7210</td>\n",
       "      <td>-122.319</td>\n",
       "      <td>1690</td>\n",
       "      <td>7639</td>\n",
       "    </tr>\n",
       "    <tr>\n",
       "      <th>2</th>\n",
       "      <td>5631500400</td>\n",
       "      <td>20150225T000000</td>\n",
       "      <td>180000.0</td>\n",
       "      <td>2</td>\n",
       "      <td>1.00</td>\n",
       "      <td>770</td>\n",
       "      <td>10000</td>\n",
       "      <td>1.0</td>\n",
       "      <td>0</td>\n",
       "      <td>0</td>\n",
       "      <td>...</td>\n",
       "      <td>6</td>\n",
       "      <td>770</td>\n",
       "      <td>0</td>\n",
       "      <td>1933</td>\n",
       "      <td>0</td>\n",
       "      <td>98028</td>\n",
       "      <td>47.7379</td>\n",
       "      <td>-122.233</td>\n",
       "      <td>2720</td>\n",
       "      <td>8062</td>\n",
       "    </tr>\n",
       "    <tr>\n",
       "      <th>3</th>\n",
       "      <td>2487200875</td>\n",
       "      <td>20141209T000000</td>\n",
       "      <td>604000.0</td>\n",
       "      <td>4</td>\n",
       "      <td>3.00</td>\n",
       "      <td>1960</td>\n",
       "      <td>5000</td>\n",
       "      <td>1.0</td>\n",
       "      <td>0</td>\n",
       "      <td>0</td>\n",
       "      <td>...</td>\n",
       "      <td>7</td>\n",
       "      <td>1050</td>\n",
       "      <td>910</td>\n",
       "      <td>1965</td>\n",
       "      <td>0</td>\n",
       "      <td>98136</td>\n",
       "      <td>47.5208</td>\n",
       "      <td>-122.393</td>\n",
       "      <td>1360</td>\n",
       "      <td>5000</td>\n",
       "    </tr>\n",
       "    <tr>\n",
       "      <th>4</th>\n",
       "      <td>1954400510</td>\n",
       "      <td>20150218T000000</td>\n",
       "      <td>510000.0</td>\n",
       "      <td>3</td>\n",
       "      <td>2.00</td>\n",
       "      <td>1680</td>\n",
       "      <td>8080</td>\n",
       "      <td>1.0</td>\n",
       "      <td>0</td>\n",
       "      <td>0</td>\n",
       "      <td>...</td>\n",
       "      <td>8</td>\n",
       "      <td>1680</td>\n",
       "      <td>0</td>\n",
       "      <td>1987</td>\n",
       "      <td>0</td>\n",
       "      <td>98074</td>\n",
       "      <td>47.6168</td>\n",
       "      <td>-122.045</td>\n",
       "      <td>1800</td>\n",
       "      <td>7503</td>\n",
       "    </tr>\n",
       "  </tbody>\n",
       "</table>\n",
       "<p>5 rows × 21 columns</p>\n",
       "</div>"
      ],
      "text/plain": [
       "           id             date     price  bedrooms  bathrooms  sqft_living  \\\n",
       "0  7129300520  20141013T000000  221900.0         3       1.00         1180   \n",
       "1  6414100192  20141209T000000  538000.0         3       2.25         2570   \n",
       "2  5631500400  20150225T000000  180000.0         2       1.00          770   \n",
       "3  2487200875  20141209T000000  604000.0         4       3.00         1960   \n",
       "4  1954400510  20150218T000000  510000.0         3       2.00         1680   \n",
       "\n",
       "   sqft_lot  floors  waterfront  view  ...  grade  sqft_above  sqft_basement  \\\n",
       "0      5650     1.0           0     0  ...      7        1180              0   \n",
       "1      7242     2.0           0     0  ...      7        2170            400   \n",
       "2     10000     1.0           0     0  ...      6         770              0   \n",
       "3      5000     1.0           0     0  ...      7        1050            910   \n",
       "4      8080     1.0           0     0  ...      8        1680              0   \n",
       "\n",
       "   yr_built  yr_renovated  zipcode      lat     long  sqft_living15  \\\n",
       "0      1955             0    98178  47.5112 -122.257           1340   \n",
       "1      1951          1991    98125  47.7210 -122.319           1690   \n",
       "2      1933             0    98028  47.7379 -122.233           2720   \n",
       "3      1965             0    98136  47.5208 -122.393           1360   \n",
       "4      1987             0    98074  47.6168 -122.045           1800   \n",
       "\n",
       "   sqft_lot15  \n",
       "0        5650  \n",
       "1        7639  \n",
       "2        8062  \n",
       "3        5000  \n",
       "4        7503  \n",
       "\n",
       "[5 rows x 21 columns]"
      ]
     },
     "execution_count": 263,
     "metadata": {},
     "output_type": "execute_result"
    }
   ],
   "source": [
    "df = pd.read_csv(\"data.csv\")\n",
    "df.head()"
   ]
  },
  {
   "cell_type": "markdown",
   "metadata": {},
   "source": [
    "## <font color=\"blue\">Traitement des données</font>"
   ]
  },
  {
   "cell_type": "code",
   "execution_count": 264,
   "metadata": {},
   "outputs": [
    {
     "name": "stderr",
     "output_type": "stream",
     "text": [
      "C:\\Users\\APPREN~1\\AppData\\Local\\Temp/ipykernel_3348/2256284547.py:3: SettingWithCopyWarning: \n",
      "A value is trying to be set on a copy of a slice from a DataFrame\n",
      "\n",
      "See the caveats in the documentation: https://pandas.pydata.org/pandas-docs/stable/user_guide/indexing.html#returning-a-view-versus-a-copy\n",
      "  df['renovation'][df['yr_renovated'] != 0] = df[\"date\"].dt.year - df[\"yr_renovated\"]\n",
      "C:\\Users\\APPREN~1\\AppData\\Local\\Temp/ipykernel_3348/2256284547.py:4: SettingWithCopyWarning: \n",
      "A value is trying to be set on a copy of a slice from a DataFrame\n",
      "\n",
      "See the caveats in the documentation: https://pandas.pydata.org/pandas-docs/stable/user_guide/indexing.html#returning-a-view-versus-a-copy\n",
      "  df['renovation'][df['renovation'] < 0] = 0\n"
     ]
    }
   ],
   "source": [
    "df[\"date\"] = pd.to_datetime(df[\"date\"])\n",
    "df[\"renovation\"] = df[\"date\"].dt.year - df['yr_built']\n",
    "df['renovation'][df['yr_renovated'] != 0] = df[\"date\"].dt.year - df[\"yr_renovated\"]\n",
    "df['renovation'][df['renovation'] < 0] = 0\n",
    "df[\"date\"] = (df[\"date\"] - df[\"date\"].min()).dt.days\n",
    "df[\"ln_price\"] = np.log(df[\"price\"])\n",
    "df = df[df[\"bedrooms\"]<20]"
   ]
  },
  {
   "cell_type": "markdown",
   "metadata": {},
   "source": [
    "## <font color=\"blue\">Création des pipeline</font>"
   ]
  },
  {
   "cell_type": "code",
   "execution_count": 265,
   "metadata": {},
   "outputs": [],
   "source": [
    "from sklearn.pipeline import make_pipeline\n",
    "from sklearn.compose import make_column_transformer\n",
    "from sklearn.preprocessing import PolynomialFeatures, StandardScaler, OneHotEncoder, RobustScaler\n",
    "from sklearn.linear_model import LinearRegression, Ridge, Lasso, ElasticNet"
   ]
  },
  {
   "cell_type": "code",
   "execution_count": 266,
   "metadata": {},
   "outputs": [],
   "source": [
    "poly_features = [\"sqft_living\", \"sqft_living15\", \"bathrooms\",\"bedrooms\",\"sqft_above\"]\n",
    "non_poly_features = [\"date\", \"sqft_lot\", \"sqft_lot15\",\"floors\",\"lat\",\"long\",\"renovation\",\"sqft_basement\", \"grade\"]\n",
    "hot_encode_features = [\"zipcode\", \"view\", \"condition\", \"waterfront\"]\n",
    "\n",
    "poly_pipeline = make_pipeline(PolynomialFeatures(), RobustScaler())\n",
    "hot_encode_pipeline = make_pipeline(OneHotEncoder(handle_unknown = 'ignore'))\n",
    "non_poly_pipeline = make_pipeline(RobustScaler())\n",
    "\n",
    "processor = make_column_transformer((poly_pipeline, poly_features), (non_poly_pipeline,non_poly_features),\n",
    "                                       (hot_encode_pipeline,hot_encode_features))"
   ]
  },
  {
   "cell_type": "code",
   "execution_count": 288,
   "metadata": {},
   "outputs": [],
   "source": [
    "lr = make_pipeline(processor, LinearRegression())\n",
    "ridge = make_pipeline(processor, Ridge(alpha=0.2))\n",
    "lasso = make_pipeline(processor, Lasso()) # lasso inutilisable puisque OneHotEncoder sans standardisation\n",
    "elasticnet = make_pipeline(processor, ElasticNet(l1_ratio=0))"
   ]
  },
  {
   "cell_type": "markdown",
   "metadata": {},
   "source": [
    "## <font color=\"blue\">Modèles</font>"
   ]
  },
  {
   "cell_type": "code",
   "execution_count": 268,
   "metadata": {},
   "outputs": [],
   "source": [
    "from sklearn.model_selection import train_test_split, learning_curve, cross_val_score\n",
    "from sklearn.metrics import explained_variance_score,max_error,mean_absolute_error,mean_squared_error,r2_score, mean_squared_log_error"
   ]
  },
  {
   "cell_type": "code",
   "execution_count": 269,
   "metadata": {},
   "outputs": [],
   "source": [
    "X = df.drop([\"price\", \"ln_price\", \"id\",\"yr_renovated\",\"yr_built\"], axis=1)\n",
    "y = df[\"ln_price\"]\n",
    "\n",
    "X_train, X_test, y_train, y_test = train_test_split(X, y, train_size=0.8, random_state=1)\n",
    "X_train_fortran = np.asfortranarray(X_train)"
   ]
  },
  {
   "cell_type": "code",
   "execution_count": 270,
   "metadata": {},
   "outputs": [],
   "source": [
    "def eval_metrics(y_test, y_pred):\n",
    "    print(f'explained_variance_score = {explained_variance_score(y_test, y_pred)}')\n",
    "    print(f'max error = {max_error(y_test, y_pred)}')\n",
    "    print(f'RMSE = {np.sqrt(mean_squared_error(y_test, y_pred))}')\n",
    "    print(f'MSLE = {mean_squared_log_error(y_test, y_pred)}')\n",
    "    print(f'MAE = {mean_absolute_error(y_test, y_pred)}')\n",
    "    print(f'R²= {r2_score(y_test, y_pred)}')"
   ]
  },
  {
   "cell_type": "markdown",
   "metadata": {},
   "source": [
    "### <font color=\"green\">Linear Regression</font>"
   ]
  },
  {
   "cell_type": "code",
   "execution_count": 271,
   "metadata": {},
   "outputs": [
    {
     "name": "stdout",
     "output_type": "stream",
     "text": [
      "explained_variance_score = 0.884259015743248\n",
      "max error = 3588002.3962926\n",
      "RMSE = 137463.13576310594\n",
      "MSLE = 0.03135671261125029\n",
      "MAE = 72277.92197124587\n",
      "R²= 0.883693455148984\n",
      "0.8867906221574955\n"
     ]
    },
    {
     "data": {
      "image/png": "[encoded data removed]",
      "text/plain": [
       "<Figure size 432x288 with 1 Axes>"
      ]
     },
     "metadata": {
      "needs_background": "light"
     },
     "output_type": "display_data"
    }
   ],
   "source": [
    "reg = lr.fit(X_train, y_train)\n",
    "train_size, train_score, val_score = learning_curve(lr, X_train, y_train,train_sizes=np.linspace(0.1,1,100), cv=5,\n",
    "                                                    shuffle=True, scoring='r2')\n",
    "plt.plot(train_size, val_score.mean(axis=1), label=\"Validation\")\n",
    "plt.plot(train_size, train_score.mean(axis=1), label=\"train\")\n",
    "\n",
    "pred = lr.predict(X_test)\n",
    "eval_metrics(np.exp(y_test), np.exp(pred))\n",
    "print(cross_val_score(lr,X_test,y_test,cv=10).mean())"
   ]
  },
  {
   "cell_type": "markdown",
   "metadata": {},
   "source": [
    "### <font color=\"green\">Ridge</font>"
   ]
  },
  {
   "cell_type": "code",
   "execution_count": 289,
   "metadata": {},
   "outputs": [
    {
     "name": "stdout",
     "output_type": "stream",
     "text": [
      "explained_variance_score = 0.8841114990263511\n",
      "max error = 3591961.6213055607\n",
      "RMSE = 137553.03026534984\n",
      "MSLE = 0.03137107102847475\n",
      "MAE = 72306.66713151774\n",
      "R²= 0.8835412872598204\n",
      "0.88683020874834\n"
     ]
    },
    {
     "data": {
      "image/png": "[encoded data removed]",
      "text/plain": [
       "<Figure size 432x288 with 1 Axes>"
      ]
     },
     "metadata": {
      "needs_background": "light"
     },
     "output_type": "display_data"
    }
   ],
   "source": [
    "reg = ridge.fit(X_train, y_train)\n",
    "train_size, train_score, val_score = learning_curve(ridge, X_train, y_train,train_sizes=np.linspace(0.1,1,100), cv=5,\n",
    "                                                    shuffle=True, scoring='r2')\n",
    "plt.plot(train_size, val_score.mean(axis=1), label=\"Validation\")\n",
    "plt.plot(train_size, train_score.mean(axis=1), label=\"train\")\n",
    "\n",
    "pred = ridge.predict(X_test)\n",
    "eval_metrics(np.exp(y_test), np.exp(pred))\n",
    "print(cross_val_score(ridge,X_test,y_test,cv=10).mean())"
   ]
  },
  {
   "cell_type": "markdown",
   "metadata": {},
   "source": [
    "### <font color=\"green\">Lasso</font>"
   ]
  },
  {
   "cell_type": "code",
   "execution_count": null,
   "metadata": {},
   "outputs": [],
   "source": [
    "# reg = lasso.fit(X_train, y_train)\n",
    "# train_size, train_score, val_score = learning_curve(lasso, X_train, y_train,train_sizes=np.linspace(0.1,1,100), cv=2,\n",
    "#                                                     shuffle=True, scoring='r2')\n",
    "# plt.plot(train_size, val_score.mean(axis=1), label=\"Validation\")\n",
    "# plt.plot(train_size, train_score.mean(axis=1), label=\"train\")\n",
    "\n",
    "# pred = lasso.predict(X_test)\n",
    "# print(lasso.score(X_test,y_test))\n",
    "# eval_metrics(np.exp(y_test), np.exp(pred))\n",
    "# print(cross_val_score(lasso,X_test,y_test,cv=10).mean())"
   ]
  },
  {
   "cell_type": "markdown",
   "metadata": {},
   "source": [
    "### <font color=\"green\">ElasticNet</font>"
   ]
  },
  {
   "cell_type": "code",
   "execution_count": null,
   "metadata": {},
   "outputs": [],
   "source": [
    "# reg= elasticnet.fit(X_train, y_train)\n",
    "# train_size, train_score, val_score = learning_curve(elasticnet, X_train, y_train,train_sizes=np.linspace(0.1,1,100), cv=2,\n",
    "#                                                     shuffle=True, scoring='r2')\n",
    "# plt.plot(train_size, val_score.mean(axis=1), label=\"Validation\")\n",
    "# plt.plot(train_size, train_score.mean(axis=1), label=\"train\")\n",
    "\n",
    "# pred = elasticnet.predict(X_test)\n",
    "# elasticnet.score(X_test,y_test)\n",
    "# eval_metrics(np.exp(y_test), np.exp(pred))\n",
    "# print(cross_val_score(elasticnet,X_test,y_test,cv=10).mean())"
   ]
  },
  {
   "cell_type": "code",
   "execution_count": null,
   "metadata": {},
   "outputs": [],
   "source": [
    "from sklearn.model_selection import GridSearchCV"
   ]
  },
  {
   "cell_type": "markdown",
   "metadata": {},
   "source": [
    "## Optimisation des paramètres"
   ]
  },
  {
   "cell_type": "code",
   "execution_count": 287,
   "metadata": {},
   "outputs": [
    {
     "name": "stdout",
     "output_type": "stream",
     "text": [
      "Ridge : {'ridge__alpha': 0.2}\n"
     ]
    }
   ],
   "source": [
    "param_ridge = {\"ridge__alpha\": np.arange(0.1,1,0.1)}\n",
    "# param_lasso = {\"lasso__alpha\": np.arange(0.00001, 0.0001, 0.00001)}\n",
    "# grid_lasso = GridSearchCV(lasso, param_lasso, cv=5) #détermination du meilleur hyperparamètre alpha de Lasso\n",
    "grid_ridge = GridSearchCV(ridge, param_ridge, cv=5) #détermination du meilleur hyperparamètre alpha de Ridge\n",
    "# grid_lasso.fit(X_train, y_train)\n",
    "grid_ridge.fit(X_train, y_train)\n",
    "# print(f\"Lasso : {grid_lasso.best_params_}\")\n",
    "print(f'Ridge : {grid_ridge.best_params_}')"
   ]
  }
 ],
 "metadata": {
  "interpreter": {
   "hash": "e8e72ecd218193d245fb3b010d45ad55dac7ff54b5052aa4883c6a911d9d65f6"
  },
  "kernelspec": {
   "display_name": "Python 3.9.7 ('rb_ds')",
   "language": "python",
   "name": "python3"
  },
  "language_info": {
   "codemirror_mode": {
    "name": "ipython",
    "version": 3
   },
   "file_extension": ".py",
   "mimetype": "text/x-python",
   "name": "python",
   "nbconvert_exporter": "python",
   "pygments_lexer": "ipython3",
   "version": "3.9.7"
  },
  "orig_nbformat": 4
 },
 "nbformat": 4,
 "nbformat_minor": 2
}
